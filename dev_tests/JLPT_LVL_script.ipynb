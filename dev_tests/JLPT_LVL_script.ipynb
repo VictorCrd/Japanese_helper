{
 "cells": [
  {
   "cell_type": "code",
   "metadata": {
    "pycharm": {
     "name": "#%%\n"
    }
   },
   "source": [
    "import urllib, json\n",
    "author = 'UCXo8kuCtqLjL1EH6m4FJJNA'\n",
    "\n",
    "foundAll = False\n",
    "ind = 1\n",
    "videos = []\n",
    "while not foundAll:\n",
    "    inp = urllib.request.urlopen(r'http://gdata.youtube.com/feeds/api/videos?start-index={0}&max-results=50&alt=json&orderby=published&author={1}'.format( ind, author ) )\n",
    "    try:\n",
    "        resp = json.load(inp)\n",
    "        inp.close()\n",
    "        returnedVideos = resp['feed']['entry']\n",
    "        for video in returnedVideos:\n",
    "            videos.append( video )\n",
    "\n",
    "        ind += 50\n",
    "        print(len( videos ))\n",
    "        if ( len( returnedVideos ) < 50 ):\n",
    "            foundAll = True\n",
    "    except:\n",
    "        #catch the case where the number of videos in the channel is a multiple of 50\n",
    "        print(\"error\")\n",
    "        foundAll = True\n",
    "\n",
    "for video in videos:\n",
    "    print(video['title']) # video title\n",
    "    print(video['link'][0]['href']) #url"
   ],
   "execution_count": 6,
   "outputs": [
    {
     "ename": "HTTPError",
     "evalue": "HTTP Error 404: Not Found",
     "output_type": "error",
     "traceback": [
      "\u001B[1;31m---------------------------------------------------------------------------\u001B[0m",
      "\u001B[1;31mHTTPError\u001B[0m                                 Traceback (most recent call last)",
      "\u001B[1;32m<ipython-input-6-834b5138f9f5>\u001B[0m in \u001B[0;36m<module>\u001B[1;34m\u001B[0m\n\u001B[0;32m      6\u001B[0m \u001B[0mvideos\u001B[0m \u001B[1;33m=\u001B[0m \u001B[1;33m[\u001B[0m\u001B[1;33m]\u001B[0m\u001B[1;33m\u001B[0m\u001B[1;33m\u001B[0m\u001B[0m\n\u001B[0;32m      7\u001B[0m \u001B[1;32mwhile\u001B[0m \u001B[1;32mnot\u001B[0m \u001B[0mfoundAll\u001B[0m\u001B[1;33m:\u001B[0m\u001B[1;33m\u001B[0m\u001B[1;33m\u001B[0m\u001B[0m\n\u001B[1;32m----> 8\u001B[1;33m     \u001B[0minp\u001B[0m \u001B[1;33m=\u001B[0m \u001B[0murllib\u001B[0m\u001B[1;33m.\u001B[0m\u001B[0mrequest\u001B[0m\u001B[1;33m.\u001B[0m\u001B[0murlopen\u001B[0m\u001B[1;33m(\u001B[0m\u001B[1;34mr'http://gdata.youtube.com/feeds/api/videos?start-index={0}&max-results=50&alt=json&orderby=published&author={1}'\u001B[0m\u001B[1;33m.\u001B[0m\u001B[0mformat\u001B[0m\u001B[1;33m(\u001B[0m \u001B[0mind\u001B[0m\u001B[1;33m,\u001B[0m \u001B[0mauthor\u001B[0m \u001B[1;33m)\u001B[0m \u001B[1;33m)\u001B[0m\u001B[1;33m\u001B[0m\u001B[1;33m\u001B[0m\u001B[0m\n\u001B[0m\u001B[0;32m      9\u001B[0m     \u001B[1;32mtry\u001B[0m\u001B[1;33m:\u001B[0m\u001B[1;33m\u001B[0m\u001B[1;33m\u001B[0m\u001B[0m\n\u001B[0;32m     10\u001B[0m         \u001B[0mresp\u001B[0m \u001B[1;33m=\u001B[0m \u001B[0mjson\u001B[0m\u001B[1;33m.\u001B[0m\u001B[0mload\u001B[0m\u001B[1;33m(\u001B[0m\u001B[0minp\u001B[0m\u001B[1;33m)\u001B[0m\u001B[1;33m\u001B[0m\u001B[1;33m\u001B[0m\u001B[0m\n",
      "\u001B[1;32mc:\\users\\happy\\appdata\\local\\programs\\python\\python38\\lib\\urllib\\request.py\u001B[0m in \u001B[0;36murlopen\u001B[1;34m(url, data, timeout, cafile, capath, cadefault, context)\u001B[0m\n\u001B[0;32m    220\u001B[0m     \u001B[1;32melse\u001B[0m\u001B[1;33m:\u001B[0m\u001B[1;33m\u001B[0m\u001B[1;33m\u001B[0m\u001B[0m\n\u001B[0;32m    221\u001B[0m         \u001B[0mopener\u001B[0m \u001B[1;33m=\u001B[0m \u001B[0m_opener\u001B[0m\u001B[1;33m\u001B[0m\u001B[1;33m\u001B[0m\u001B[0m\n\u001B[1;32m--> 222\u001B[1;33m     \u001B[1;32mreturn\u001B[0m \u001B[0mopener\u001B[0m\u001B[1;33m.\u001B[0m\u001B[0mopen\u001B[0m\u001B[1;33m(\u001B[0m\u001B[0murl\u001B[0m\u001B[1;33m,\u001B[0m \u001B[0mdata\u001B[0m\u001B[1;33m,\u001B[0m \u001B[0mtimeout\u001B[0m\u001B[1;33m)\u001B[0m\u001B[1;33m\u001B[0m\u001B[1;33m\u001B[0m\u001B[0m\n\u001B[0m\u001B[0;32m    223\u001B[0m \u001B[1;33m\u001B[0m\u001B[0m\n\u001B[0;32m    224\u001B[0m \u001B[1;32mdef\u001B[0m \u001B[0minstall_opener\u001B[0m\u001B[1;33m(\u001B[0m\u001B[0mopener\u001B[0m\u001B[1;33m)\u001B[0m\u001B[1;33m:\u001B[0m\u001B[1;33m\u001B[0m\u001B[1;33m\u001B[0m\u001B[0m\n",
      "\u001B[1;32mc:\\users\\happy\\appdata\\local\\programs\\python\\python38\\lib\\urllib\\request.py\u001B[0m in \u001B[0;36mopen\u001B[1;34m(self, fullurl, data, timeout)\u001B[0m\n\u001B[0;32m    529\u001B[0m         \u001B[1;32mfor\u001B[0m \u001B[0mprocessor\u001B[0m \u001B[1;32min\u001B[0m \u001B[0mself\u001B[0m\u001B[1;33m.\u001B[0m\u001B[0mprocess_response\u001B[0m\u001B[1;33m.\u001B[0m\u001B[0mget\u001B[0m\u001B[1;33m(\u001B[0m\u001B[0mprotocol\u001B[0m\u001B[1;33m,\u001B[0m \u001B[1;33m[\u001B[0m\u001B[1;33m]\u001B[0m\u001B[1;33m)\u001B[0m\u001B[1;33m:\u001B[0m\u001B[1;33m\u001B[0m\u001B[1;33m\u001B[0m\u001B[0m\n\u001B[0;32m    530\u001B[0m             \u001B[0mmeth\u001B[0m \u001B[1;33m=\u001B[0m \u001B[0mgetattr\u001B[0m\u001B[1;33m(\u001B[0m\u001B[0mprocessor\u001B[0m\u001B[1;33m,\u001B[0m \u001B[0mmeth_name\u001B[0m\u001B[1;33m)\u001B[0m\u001B[1;33m\u001B[0m\u001B[1;33m\u001B[0m\u001B[0m\n\u001B[1;32m--> 531\u001B[1;33m             \u001B[0mresponse\u001B[0m \u001B[1;33m=\u001B[0m \u001B[0mmeth\u001B[0m\u001B[1;33m(\u001B[0m\u001B[0mreq\u001B[0m\u001B[1;33m,\u001B[0m \u001B[0mresponse\u001B[0m\u001B[1;33m)\u001B[0m\u001B[1;33m\u001B[0m\u001B[1;33m\u001B[0m\u001B[0m\n\u001B[0m\u001B[0;32m    532\u001B[0m \u001B[1;33m\u001B[0m\u001B[0m\n\u001B[0;32m    533\u001B[0m         \u001B[1;32mreturn\u001B[0m \u001B[0mresponse\u001B[0m\u001B[1;33m\u001B[0m\u001B[1;33m\u001B[0m\u001B[0m\n",
      "\u001B[1;32mc:\\users\\happy\\appdata\\local\\programs\\python\\python38\\lib\\urllib\\request.py\u001B[0m in \u001B[0;36mhttp_response\u001B[1;34m(self, request, response)\u001B[0m\n\u001B[0;32m    638\u001B[0m         \u001B[1;31m# request was successfully received, understood, and accepted.\u001B[0m\u001B[1;33m\u001B[0m\u001B[1;33m\u001B[0m\u001B[1;33m\u001B[0m\u001B[0m\n\u001B[0;32m    639\u001B[0m         \u001B[1;32mif\u001B[0m \u001B[1;32mnot\u001B[0m \u001B[1;33m(\u001B[0m\u001B[1;36m200\u001B[0m \u001B[1;33m<=\u001B[0m \u001B[0mcode\u001B[0m \u001B[1;33m<\u001B[0m \u001B[1;36m300\u001B[0m\u001B[1;33m)\u001B[0m\u001B[1;33m:\u001B[0m\u001B[1;33m\u001B[0m\u001B[1;33m\u001B[0m\u001B[0m\n\u001B[1;32m--> 640\u001B[1;33m             response = self.parent.error(\n\u001B[0m\u001B[0;32m    641\u001B[0m                 'http', request, response, code, msg, hdrs)\n\u001B[0;32m    642\u001B[0m \u001B[1;33m\u001B[0m\u001B[0m\n",
      "\u001B[1;32mc:\\users\\happy\\appdata\\local\\programs\\python\\python38\\lib\\urllib\\request.py\u001B[0m in \u001B[0;36merror\u001B[1;34m(self, proto, *args)\u001B[0m\n\u001B[0;32m    567\u001B[0m         \u001B[1;32mif\u001B[0m \u001B[0mhttp_err\u001B[0m\u001B[1;33m:\u001B[0m\u001B[1;33m\u001B[0m\u001B[1;33m\u001B[0m\u001B[0m\n\u001B[0;32m    568\u001B[0m             \u001B[0margs\u001B[0m \u001B[1;33m=\u001B[0m \u001B[1;33m(\u001B[0m\u001B[0mdict\u001B[0m\u001B[1;33m,\u001B[0m \u001B[1;34m'default'\u001B[0m\u001B[1;33m,\u001B[0m \u001B[1;34m'http_error_default'\u001B[0m\u001B[1;33m)\u001B[0m \u001B[1;33m+\u001B[0m \u001B[0morig_args\u001B[0m\u001B[1;33m\u001B[0m\u001B[1;33m\u001B[0m\u001B[0m\n\u001B[1;32m--> 569\u001B[1;33m             \u001B[1;32mreturn\u001B[0m \u001B[0mself\u001B[0m\u001B[1;33m.\u001B[0m\u001B[0m_call_chain\u001B[0m\u001B[1;33m(\u001B[0m\u001B[1;33m*\u001B[0m\u001B[0margs\u001B[0m\u001B[1;33m)\u001B[0m\u001B[1;33m\u001B[0m\u001B[1;33m\u001B[0m\u001B[0m\n\u001B[0m\u001B[0;32m    570\u001B[0m \u001B[1;33m\u001B[0m\u001B[0m\n\u001B[0;32m    571\u001B[0m \u001B[1;31m# XXX probably also want an abstract factory that knows when it makes\u001B[0m\u001B[1;33m\u001B[0m\u001B[1;33m\u001B[0m\u001B[1;33m\u001B[0m\u001B[0m\n",
      "\u001B[1;32mc:\\users\\happy\\appdata\\local\\programs\\python\\python38\\lib\\urllib\\request.py\u001B[0m in \u001B[0;36m_call_chain\u001B[1;34m(self, chain, kind, meth_name, *args)\u001B[0m\n\u001B[0;32m    500\u001B[0m         \u001B[1;32mfor\u001B[0m \u001B[0mhandler\u001B[0m \u001B[1;32min\u001B[0m \u001B[0mhandlers\u001B[0m\u001B[1;33m:\u001B[0m\u001B[1;33m\u001B[0m\u001B[1;33m\u001B[0m\u001B[0m\n\u001B[0;32m    501\u001B[0m             \u001B[0mfunc\u001B[0m \u001B[1;33m=\u001B[0m \u001B[0mgetattr\u001B[0m\u001B[1;33m(\u001B[0m\u001B[0mhandler\u001B[0m\u001B[1;33m,\u001B[0m \u001B[0mmeth_name\u001B[0m\u001B[1;33m)\u001B[0m\u001B[1;33m\u001B[0m\u001B[1;33m\u001B[0m\u001B[0m\n\u001B[1;32m--> 502\u001B[1;33m             \u001B[0mresult\u001B[0m \u001B[1;33m=\u001B[0m \u001B[0mfunc\u001B[0m\u001B[1;33m(\u001B[0m\u001B[1;33m*\u001B[0m\u001B[0margs\u001B[0m\u001B[1;33m)\u001B[0m\u001B[1;33m\u001B[0m\u001B[1;33m\u001B[0m\u001B[0m\n\u001B[0m\u001B[0;32m    503\u001B[0m             \u001B[1;32mif\u001B[0m \u001B[0mresult\u001B[0m \u001B[1;32mis\u001B[0m \u001B[1;32mnot\u001B[0m \u001B[1;32mNone\u001B[0m\u001B[1;33m:\u001B[0m\u001B[1;33m\u001B[0m\u001B[1;33m\u001B[0m\u001B[0m\n\u001B[0;32m    504\u001B[0m                 \u001B[1;32mreturn\u001B[0m \u001B[0mresult\u001B[0m\u001B[1;33m\u001B[0m\u001B[1;33m\u001B[0m\u001B[0m\n",
      "\u001B[1;32mc:\\users\\happy\\appdata\\local\\programs\\python\\python38\\lib\\urllib\\request.py\u001B[0m in \u001B[0;36mhttp_error_default\u001B[1;34m(self, req, fp, code, msg, hdrs)\u001B[0m\n\u001B[0;32m    647\u001B[0m \u001B[1;32mclass\u001B[0m \u001B[0mHTTPDefaultErrorHandler\u001B[0m\u001B[1;33m(\u001B[0m\u001B[0mBaseHandler\u001B[0m\u001B[1;33m)\u001B[0m\u001B[1;33m:\u001B[0m\u001B[1;33m\u001B[0m\u001B[1;33m\u001B[0m\u001B[0m\n\u001B[0;32m    648\u001B[0m     \u001B[1;32mdef\u001B[0m \u001B[0mhttp_error_default\u001B[0m\u001B[1;33m(\u001B[0m\u001B[0mself\u001B[0m\u001B[1;33m,\u001B[0m \u001B[0mreq\u001B[0m\u001B[1;33m,\u001B[0m \u001B[0mfp\u001B[0m\u001B[1;33m,\u001B[0m \u001B[0mcode\u001B[0m\u001B[1;33m,\u001B[0m \u001B[0mmsg\u001B[0m\u001B[1;33m,\u001B[0m \u001B[0mhdrs\u001B[0m\u001B[1;33m)\u001B[0m\u001B[1;33m:\u001B[0m\u001B[1;33m\u001B[0m\u001B[1;33m\u001B[0m\u001B[0m\n\u001B[1;32m--> 649\u001B[1;33m         \u001B[1;32mraise\u001B[0m \u001B[0mHTTPError\u001B[0m\u001B[1;33m(\u001B[0m\u001B[0mreq\u001B[0m\u001B[1;33m.\u001B[0m\u001B[0mfull_url\u001B[0m\u001B[1;33m,\u001B[0m \u001B[0mcode\u001B[0m\u001B[1;33m,\u001B[0m \u001B[0mmsg\u001B[0m\u001B[1;33m,\u001B[0m \u001B[0mhdrs\u001B[0m\u001B[1;33m,\u001B[0m \u001B[0mfp\u001B[0m\u001B[1;33m)\u001B[0m\u001B[1;33m\u001B[0m\u001B[1;33m\u001B[0m\u001B[0m\n\u001B[0m\u001B[0;32m    650\u001B[0m \u001B[1;33m\u001B[0m\u001B[0m\n\u001B[0;32m    651\u001B[0m \u001B[1;32mclass\u001B[0m \u001B[0mHTTPRedirectHandler\u001B[0m\u001B[1;33m(\u001B[0m\u001B[0mBaseHandler\u001B[0m\u001B[1;33m)\u001B[0m\u001B[1;33m:\u001B[0m\u001B[1;33m\u001B[0m\u001B[1;33m\u001B[0m\u001B[0m\n",
      "\u001B[1;31mHTTPError\u001B[0m: HTTP Error 404: Not Found"
     ]
    }
   ]
  },
  {
   "cell_type": "code",
   "execution_count": 6,
   "metadata": {},
   "outputs": [],
   "source": [
    "import pandas as pd\n",
    "import numpy as np\n",
    "pd.options.display.max_rows = 200\n",
    "pd.options.display.max_columns = 200\n",
    "import MeCab\n",
    "from jisho import Client"
   ]
  },
  {
   "cell_type": "code",
   "execution_count": 7,
   "metadata": {},
   "outputs": [],
   "source": [
    "wakati = MeCab.Tagger(\"-Owakati\")"
   ]
  },
  {
   "cell_type": "code",
   "execution_count": 8,
   "metadata": {},
   "outputs": [],
   "source": [
    "list_drop = ['、', '。', 'の', 'て', 'に', 'と', 'は', 'ます', 'が', 'です', 'で', 'も', 'か', 'を', 'し', 'な', 'へ', 'み', '」', '「', 'た', 'ん']\n",
    "known_vocab_drop = ['私', 'さん']\n",
    "list_drop_vocab = list_drop + known_vocab_drop\n",
    "\n",
    "    \n",
    "\n",
    "sentence = \"皆さん、こんにちは、日本語の先生のりこです。今日も楽しく日本語の勉強してますか。今日は、中級の教科書について話します。上級へのとびら、上級へのとびらという教科書について知っていますか。私の生徒さんの中でも、初級を終わって、中級、そして、中級から上級へのステップアップとして、この上級へのとびらを使っている生徒さんがたくさんいます。私は個人的にこの教科書が好きです。まず、読み物、読み物のコンテンツがとても充実していると思います。日本のいろいろな文化について書いてありますが、本当にコンテンツが詳しく書いてあります。読み応えがあります。でも、初級の教科書を終わったばかりの生徒さんにとっては、ものすごく難しく感じるかもしれません。なぜならそのコンテンツは長いし、難しい言葉、新しい言葉がたくさん出てくるからです。でも、読むことが好き、日本の文化を知りたい、もっと新しい言葉、漢字を覚えたいという生徒さんには、とてもお勧めができます。単語のリストや文法も詳しいと思います。そこで、今回から、少しずつ上級へのとびらに出てくるトピックや言葉を使って、色々話してみたいと思います。今日は第一課ですね。上級へのとびらの第一課に出てくる、あなたの国または出身地の名所と名物について話しましょう、書きましょう、ということについて話します。あなたの国、私の場合、日本です。出身地、私の場合、岡山県の倉敷です。その名所と名物。わかりますか。名所名物。名所は、名前の「名」と場所の「所」で名所。これは、その土地の有名な所、よく知られているところ、たくさんの観光客が行くところ。または最近できた話題のスポットかもしれません。名物は、名前の「名」、そして、「物」の「もの」ですね。名物。これはその土地で有名なもの、食べ物かもしれないし、食べ物じゃない時もあると思います。それが名物、その土地のもの。皆さんの出身地の名所と名物は何ですか。それについて是非考えてみて、文章で書いてみたり、話したりしてみてください。日本語で書いてみましょう。私の場合、倉敷市について話します。倉敷市の名所は倉敷市の駅の近くにある美術館、大原美術館です。この大原美術館は、倉敷の美観地区の中にあります。小さい美術館なんですが、とても有名なんです。どうしてかというと、ロダンとかピカソとかモネとか、実はすごく有名な人の作品がたくさんあるんです。こんなところにこんな絵があるの、とびっくりするような素晴らしいコレクションです。もし岡山県の倉敷市に来る機会があれば、必ず大原美術館に行ってみてください。私は子供の時からよく行っていました。小学校での遠足、おかあさんといっしょに行ったり、また大人になって友達と行ったり、何回も言ったことがあります。行くたびに何か新しい発見、勉強ができる素晴らしい美術館だと思います。ということで倉敷市の名所は大原美術館。私にとっては大原美術館です。じゃあ、倉敷の名物。私なら、ぶっかけうどんと答えます。これも倉敷市の駅の近くにレストラン、ま、うどん屋さんがあって、その名前が倉敷ぶっかけうどんと言います。今ではもうとても有名で成功して、倉敷のどこにでもあります。チェーンになりました。でも味は変わってないです。とても美味しいで す。うどんがすきなら、おすすめです。私は倉敷市に戻ると、必ず絶対にこのうどんを食べに行きます。倉敷の名物はぶっかけうどんです。じゃあ、皆さんの出身地の名所と名物を教えてください。今日のトピックは、上級へのとびら第一課から、名所と名物について取り上げました。\""
   ]
  },
  {
   "cell_type": "code",
   "execution_count": 9,
   "metadata": {},
   "outputs": [
    {
     "name": "stderr",
     "output_type": "stream",
     "text": [
      "c:\\users\\happy\\appdata\\local\\programs\\python\\python38\\lib\\site-packages\\pandas\\core\\indexing.py:671: SettingWithCopyWarning: \n",
      "A value is trying to be set on a copy of a slice from a DataFrame\n",
      "\n",
      "See the caveats in the documentation: https://pandas.pydata.org/pandas-docs/stable/user_guide/indexing.html#returning-a-view-versus-a-copy\n",
      "  self._setitem_with_indexer(indexer, value)\n"
     ]
    },
    {
     "data": {
      "text/html": [
       "<div>\n",
       "<style scoped>\n",
       "    .dataframe tbody tr th:only-of-type {\n",
       "        vertical-align: middle;\n",
       "    }\n",
       "\n",
       "    .dataframe tbody tr th {\n",
       "        vertical-align: top;\n",
       "    }\n",
       "\n",
       "    .dataframe thead th {\n",
       "        text-align: right;\n",
       "    }\n",
       "</style>\n",
       "<table border=\"1\" class=\"dataframe\">\n",
       "  <thead>\n",
       "    <tr style=\"text-align: right;\">\n",
       "      <th></th>\n",
       "      <th>vocab</th>\n",
       "      <th>count</th>\n",
       "      <th>trad</th>\n",
       "      <th>reading</th>\n",
       "    </tr>\n",
       "  </thead>\n",
       "  <tbody>\n",
       "    <tr>\n",
       "      <th>0</th>\n",
       "      <td>倉敷</td>\n",
       "      <td>13</td>\n",
       "      <td>[storage charges]</td>\n",
       "      <td>くらしき</td>\n",
       "    </tr>\n",
       "    <tr>\n",
       "      <th>1</th>\n",
       "      <td>名物</td>\n",
       "      <td>11</td>\n",
       "      <td>[famous product, special product, speciality, ...</td>\n",
       "      <td>めいぶつ</td>\n",
       "    </tr>\n",
       "    <tr>\n",
       "      <th>2</th>\n",
       "      <td>名所</td>\n",
       "      <td>10</td>\n",
       "      <td>[famous place]</td>\n",
       "      <td>めいしょ</td>\n",
       "    </tr>\n",
       "    <tr>\n",
       "      <th>3</th>\n",
       "      <td>館</td>\n",
       "      <td>8</td>\n",
       "      <td>[house, hall, building]</td>\n",
       "      <td>かん</td>\n",
       "    </tr>\n",
       "    <tr>\n",
       "      <th>4</th>\n",
       "      <td>美術</td>\n",
       "      <td>8</td>\n",
       "      <td>[art, fine arts]</td>\n",
       "      <td>びじゅつ</td>\n",
       "    </tr>\n",
       "    <tr>\n",
       "      <th>5</th>\n",
       "      <td>つい</td>\n",
       "      <td>8</td>\n",
       "      <td>[pair, couple, set]</td>\n",
       "      <td>つい</td>\n",
       "    </tr>\n",
       "    <tr>\n",
       "      <th>6</th>\n",
       "      <td>上級</td>\n",
       "      <td>7</td>\n",
       "      <td>[advanced level, high grade, senior]</td>\n",
       "      <td>じょうきゅう</td>\n",
       "    </tr>\n",
       "    <tr>\n",
       "      <th>7</th>\n",
       "      <td>市</td>\n",
       "      <td>7</td>\n",
       "      <td>[city]</td>\n",
       "      <td>し</td>\n",
       "    </tr>\n",
       "    <tr>\n",
       "      <th>8</th>\n",
       "      <td>日本</td>\n",
       "      <td>6</td>\n",
       "      <td>[Japan]</td>\n",
       "      <td>にほん</td>\n",
       "    </tr>\n",
       "    <tr>\n",
       "      <th>9</th>\n",
       "      <td>あり</td>\n",
       "      <td>6</td>\n",
       "      <td>[ant]</td>\n",
       "      <td>あり</td>\n",
       "    </tr>\n",
       "  </tbody>\n",
       "</table>\n",
       "</div>"
      ],
      "text/plain": [
       "  vocab  count                                               trad reading\n",
       "0    倉敷     13                                  [storage charges]    くらしき\n",
       "1    名物     11  [famous product, special product, speciality, ...    めいぶつ\n",
       "2    名所     10                                     [famous place]    めいしょ\n",
       "3     館      8                            [house, hall, building]      かん\n",
       "4    美術      8                                   [art, fine arts]    びじゅつ\n",
       "5    つい      8                                [pair, couple, set]      つい\n",
       "6    上級      7               [advanced level, high grade, senior]  じょうきゅう\n",
       "7     市      7                                             [city]       し\n",
       "8    日本      6                                            [Japan]     にほん\n",
       "9    あり      6                                              [ant]      あり"
      ]
     },
     "execution_count": 9,
     "metadata": {},
     "output_type": "execute_result"
    }
   ],
   "source": [
    "def split_japanese(sentence):\n",
    "    script = wakati.parse(sentence).split()\n",
    "    df_script = pd.DataFrame({'vocab':script})\n",
    "    df_script['count'] = 1\n",
    "    df_script = df_script.groupby('vocab').sum().sort_values('count', ascending = False)\n",
    "    for i in range(0, len(list_drop_vocab)):\n",
    "        if list_drop_vocab[i] in df_script.index:\n",
    "            df_script = df_script.drop(index = list_drop_vocab[i])\n",
    "\n",
    "    #df_script = df_script.groupby('vocab').sum().sort_values('count', ascending = False).drop(index = list_drop)[0:10]\n",
    "    df_script = df_script.reset_index()[0:10]\n",
    "    df_script['trad'] = np.NaN\n",
    "    df_script['reading'] = np.NaN\n",
    "    client = Client()\n",
    "    for i in range(0, len(df_script)):\n",
    "        df_script['trad'].loc[i] = client.search(df_script['vocab'][i]).get(\"data\")[0]['senses'][0]['english_definitions']\n",
    "        df_script['reading'].loc[i] = client.search(df_script['vocab'][i]).get(\"data\")[0]['japanese'][0]['reading']\n",
    "\n",
    "    return df_script\n",
    "\n",
    "split_japanese(sentence)"
   ]
  },
  {
   "cell_type": "code",
   "execution_count": 24,
   "metadata": {
    "tags": []
   },
   "outputs": [],
   "source": [
    "script = wakati.parse(\"皆さん、こんにちは、日本語の先生のりこです。今日も楽しく日本語の勉強してますか。今日は、中級の教科書について話します。上級へのとびら、上級へのとびらという教科書について知っていますか。私の生徒さんの中でも、初級を終わって、中級、そして、中級から上級へのステップアップとして、この上級へのとびらを使っている生徒さんがたくさんいます。私は個人的にこの教科書が好きです。まず、読み物、読み物のコンテンツがとても充実していると思います。日本のいろいろな文化について書いてありますが、本当にコンテンツが詳しく書いてあります。読み応えがあります。でも、初級の教科書を終わったばかりの生徒さんにとっては、ものすごく難しく感じるかもしれません。なぜならそのコンテンツは長いし、難しい言葉、新しい言葉がたくさん出てくるからです。でも、読むことが好き、日本の文化を知りたい、もっと新しい言葉、漢字を覚えたいという生徒さんには、とてもお勧めができます。単語のリストや文法も詳しいと思います。そこで、今回から、少しずつ上級へのとびらに出てくるトピックや言葉を使って、色々話してみたいと思います。今日は第一課ですね。上級へのとびらの第一課に出てくる、あなたの国または出身地の名所と名物について話しましょう、書きましょう、ということについて話します。あなたの国、私の場合、日本です。出身地、私の場合、岡山県の倉敷です。その名所と名物。わかりますか。名所名物。名所は、名前の「名」と場所の「所」で名所。これは、その土地の有名な所、よく知られているところ、たくさんの観光客が行くところ。または最近できた話題のスポットかもしれません。名物は、名前の「名」、そして、「物」の「もの」ですね。名物。これはその土地で有名なもの、食べ物かもしれないし、食べ物じゃない時もあると思います。それが名物、その土地のもの。皆さんの出身地の名所と名物は何ですか。それについて是非考えてみて、文章で書いてみたり、話したりしてみてください。日本語で書いてみましょう。私の場合、倉敷市について話します。倉敷市の名所は倉敷市の駅の近くにある美術館、大原美術館です。この大原美術館は、倉敷の美観地区の中にあります。小さい美術館なんですが、とても有名なんです。どうしてかというと、ロダンとかピカソとかモネとか、実はすごく有名な人の作品がたくさんあるんです。こんなところにこんな絵があるの、とびっくりするような素晴らしいコレクションです。もし岡山県の倉敷市に来る機会があれば、必ず大原美術館に行ってみてください。私は子供の時からよく行っていました。小学校での遠足、おかあさんといっしょに行ったり、また大人になって友達と行ったり、何回も言ったことがあります。行くたびに何か新しい発見、勉強ができる素晴らしい美術館だと思います。ということで倉敷市の名所は大原美術館。私にとっては大原美術館です。じゃあ、倉敷の名物。私なら、ぶっかけうどんと答えます。これも倉敷市の駅の近くにレストラン、ま、うどん屋さんがあって、その名前が倉敷ぶっかけうどんと言います。今ではもうとても有名で成功して、倉敷のどこにでもあります。チェーンになりました。でも味は変わってないです。とても美味しいで す。うどんがすきなら、おすすめです。私は倉敷市に戻ると、必ず絶対にこのうどんを食べに行きます。倉敷の名物はぶっかけうどんです。じゃあ、皆さんの出身地の名所と名物を教えてください。今日のトピックは、上級へのとびら第一課から、名所と名物について取り上げました。\").split()\n",
    "df_script = pd.DataFrame({'vocab':script})"
   ]
  },
  {
   "cell_type": "code",
   "execution_count": 3,
   "metadata": {},
   "outputs": [
    {
     "name": "stdout",
     "output_type": "stream",
     "text": [
      "今日\tキョー\tキョウ\t今日\t名詞-普通名詞-副詞可能\t\t\t1\n",
      "も\tモ\tモ\tも\t助詞-係助詞\t\t\t\n",
      "楽しく\tタノシク\tタノシイ\t楽しい\t形容詞-一般\t形容詞\t連用形-一般\t3\n",
      "日本\tニッポン\tニッポン\t日本\t名詞-固有名詞-地名-国\t\t\t3\n",
      "語\tゴ\tゴ\t語\t名詞-普通名詞-一般\t\t\t1\n",
      "の\tノ\tノ\tの\t助詞-格助詞\t\t\t\n",
      "勉強\tベンキョー\tベンキョウ\t勉強\t名詞-普通名詞-サ変可能\t\t\t0\n",
      "し\tシ\tスル\t為る\t動詞-非自立可能\tサ行変格\t連用形-一般\t0\n",
      "て\tテ\tテル\tてる\t助動詞\t下一段-タ行\t連用形-一般\t\n",
      "ます\tマス\tマス\tます\t助動詞\t助動詞-マス\t終止形-一般\t\n",
      "か\tカ\tカ\tか\t助詞-終助詞\t\t\t\n",
      "EOS\n",
      "\n"
     ]
    }
   ],
   "source": [
    "\"\"\"\n",
    "tagger = MeCab.Tagger()\n",
    "print(tagger.parse(\"今日も楽しく日本語の勉強してますか\"))\n",
    "\"\"\""
   ]
  },
  {
   "cell_type": "code",
   "execution_count": 27,
   "metadata": {},
   "outputs": [],
   "source": [
    "df_script['count'] = 1\n",
    "list_drop = ['、', '。', 'の', 'て', 'に', 'と', 'は', 'ます', 'が', 'です', 'で', 'も', 'か', 'を', 'し', 'な', 'へ', 'み', '」', '「', 'た', 'ん']\n",
    "known_vocab_drop = ['私', 'さん']\n",
    "df_script = df_script.groupby('vocab').sum().sort_values('count', ascending = False).drop(index = list_drop + known_vocab_drop)[0:10]"
   ]
  },
  {
   "cell_type": "code",
   "execution_count": 5,
   "metadata": {},
   "outputs": [],
   "source": [
    "df_script = df_script.reset_index()"
   ]
  },
  {
   "cell_type": "code",
   "execution_count": 6,
   "metadata": {},
   "outputs": [],
   "source": [
    "df_script['trad'] = np.NaN\n",
    "df_script['reading'] = np.NaN"
   ]
  },
  {
   "cell_type": "code",
   "execution_count": 12,
   "metadata": {},
   "outputs": [],
   "source": [
    "client = Client()\n",
    "response = client.search('house')"
   ]
  },
  {
   "cell_type": "code",
   "execution_count": 13,
   "metadata": {},
   "outputs": [
    {
     "data": {
      "text/plain": [
       "{'slug': '家',\n",
       " 'is_common': True,\n",
       " 'tags': [],\n",
       " 'jlpt': ['jlpt-n5'],\n",
       " 'japanese': [{'word': '家', 'reading': 'いえ'}],\n",
       " 'senses': [{'english_definitions': ['house', 'residence', 'dwelling'],\n",
       "   'parts_of_speech': ['Noun'],\n",
       "   'links': [],\n",
       "   'tags': [],\n",
       "   'restrictions': [],\n",
       "   'see_also': [],\n",
       "   'antonyms': [],\n",
       "   'source': [],\n",
       "   'info': []},\n",
       "  {'english_definitions': ['family', 'household'],\n",
       "   'parts_of_speech': ['Noun'],\n",
       "   'links': [],\n",
       "   'tags': [],\n",
       "   'restrictions': [],\n",
       "   'see_also': [],\n",
       "   'antonyms': [],\n",
       "   'source': [],\n",
       "   'info': []},\n",
       "  {'english_definitions': ['lineage', 'family name'],\n",
       "   'parts_of_speech': ['Noun'],\n",
       "   'links': [],\n",
       "   'tags': [],\n",
       "   'restrictions': [],\n",
       "   'see_also': [],\n",
       "   'antonyms': [],\n",
       "   'source': [],\n",
       "   'info': []}],\n",
       " 'attribution': {'jmdict': True, 'jmnedict': False, 'dbpedia': False}}"
      ]
     },
     "execution_count": 13,
     "metadata": {},
     "output_type": "execute_result"
    }
   ],
   "source": [
    "response.get(\"data\")[0]"
   ]
  },
  {
   "cell_type": "code",
   "execution_count": 14,
   "metadata": {},
   "outputs": [
    {
     "data": {
      "text/plain": [
       "'家'"
      ]
     },
     "execution_count": 14,
     "metadata": {},
     "output_type": "execute_result"
    }
   ],
   "source": [
    "response.get(\"data\")[0]['slug']"
   ]
  },
  {
   "cell_type": "code",
   "execution_count": 15,
   "metadata": {},
   "outputs": [
    {
     "data": {
      "text/plain": [
       "['house', 'residence', 'dwelling']"
      ]
     },
     "execution_count": 15,
     "metadata": {},
     "output_type": "execute_result"
    }
   ],
   "source": [
    "response.get(\"data\")[0]['senses'][0]['english_definitions']"
   ]
  },
  {
   "cell_type": "code",
   "execution_count": 16,
   "metadata": {},
   "outputs": [],
   "source": [
    "response = client.search('#jlpt-n5 #')"
   ]
  },
  {
   "cell_type": "code",
   "execution_count": 17,
   "metadata": {},
   "outputs": [
    {
     "data": {
      "text/plain": [
       "[]"
      ]
     },
     "execution_count": 17,
     "metadata": {},
     "output_type": "execute_result"
    }
   ],
   "source": [
    "response.get(\"data\")"
   ]
  },
  {
   "cell_type": "code",
   "execution_count": 18,
   "metadata": {},
   "outputs": [
    {
     "name": "stderr",
     "output_type": "stream",
     "text": [
      "c:\\users\\happy\\appdata\\local\\programs\\python\\python38\\lib\\site-packages\\pandas\\core\\indexing.py:671: SettingWithCopyWarning: \n",
      "A value is trying to be set on a copy of a slice from a DataFrame\n",
      "\n",
      "See the caveats in the documentation: https://pandas.pydata.org/pandas-docs/stable/user_guide/indexing.html#returning-a-view-versus-a-copy\n",
      "  self._setitem_with_indexer(indexer, value)\n"
     ]
    }
   ],
   "source": [
    "for i in range(0, len(df_script)):\n",
    "    df_script['trad'].loc[i] = client.search(df_script['vocab'][i]).get(\"data\")[0]['senses'][0]['english_definitions']\n",
    "    df_script['reading'].loc[i] = client.search(df_script['vocab'][i]).get(\"data\")[0]['japanese'][0]['reading']"
   ]
  },
  {
   "cell_type": "code",
   "execution_count": 19,
   "metadata": {},
   "outputs": [
    {
     "data": {
      "text/html": [
       "<div>\n",
       "<style scoped>\n",
       "    .dataframe tbody tr th:only-of-type {\n",
       "        vertical-align: middle;\n",
       "    }\n",
       "\n",
       "    .dataframe tbody tr th {\n",
       "        vertical-align: top;\n",
       "    }\n",
       "\n",
       "    .dataframe thead th {\n",
       "        text-align: right;\n",
       "    }\n",
       "</style>\n",
       "<table border=\"1\" class=\"dataframe\">\n",
       "  <thead>\n",
       "    <tr style=\"text-align: right;\">\n",
       "      <th></th>\n",
       "      <th>vocab</th>\n",
       "      <th>count</th>\n",
       "      <th>trad</th>\n",
       "      <th>reading</th>\n",
       "    </tr>\n",
       "  </thead>\n",
       "  <tbody>\n",
       "    <tr>\n",
       "      <th>0</th>\n",
       "      <td>倉敷</td>\n",
       "      <td>13</td>\n",
       "      <td>[storage charges]</td>\n",
       "      <td>くらしき</td>\n",
       "    </tr>\n",
       "    <tr>\n",
       "      <th>1</th>\n",
       "      <td>名物</td>\n",
       "      <td>11</td>\n",
       "      <td>[famous product, special product, speciality, ...</td>\n",
       "      <td>めいぶつ</td>\n",
       "    </tr>\n",
       "    <tr>\n",
       "      <th>2</th>\n",
       "      <td>名所</td>\n",
       "      <td>10</td>\n",
       "      <td>[famous place]</td>\n",
       "      <td>めいしょ</td>\n",
       "    </tr>\n",
       "    <tr>\n",
       "      <th>3</th>\n",
       "      <td>館</td>\n",
       "      <td>8</td>\n",
       "      <td>[house, hall, building]</td>\n",
       "      <td>かん</td>\n",
       "    </tr>\n",
       "    <tr>\n",
       "      <th>4</th>\n",
       "      <td>美術</td>\n",
       "      <td>8</td>\n",
       "      <td>[art, fine arts]</td>\n",
       "      <td>びじゅつ</td>\n",
       "    </tr>\n",
       "    <tr>\n",
       "      <th>5</th>\n",
       "      <td>つい</td>\n",
       "      <td>8</td>\n",
       "      <td>[pair, couple, set]</td>\n",
       "      <td>つい</td>\n",
       "    </tr>\n",
       "    <tr>\n",
       "      <th>6</th>\n",
       "      <td>上級</td>\n",
       "      <td>7</td>\n",
       "      <td>[advanced level, high grade, senior]</td>\n",
       "      <td>じょうきゅう</td>\n",
       "    </tr>\n",
       "    <tr>\n",
       "      <th>7</th>\n",
       "      <td>市</td>\n",
       "      <td>7</td>\n",
       "      <td>[city]</td>\n",
       "      <td>し</td>\n",
       "    </tr>\n",
       "    <tr>\n",
       "      <th>8</th>\n",
       "      <td>日本</td>\n",
       "      <td>6</td>\n",
       "      <td>[Japan]</td>\n",
       "      <td>にほん</td>\n",
       "    </tr>\n",
       "    <tr>\n",
       "      <th>9</th>\n",
       "      <td>あり</td>\n",
       "      <td>6</td>\n",
       "      <td>[ant]</td>\n",
       "      <td>あり</td>\n",
       "    </tr>\n",
       "  </tbody>\n",
       "</table>\n",
       "</div>"
      ],
      "text/plain": [
       "  vocab  count                                               trad reading\n",
       "0    倉敷     13                                  [storage charges]    くらしき\n",
       "1    名物     11  [famous product, special product, speciality, ...    めいぶつ\n",
       "2    名所     10                                     [famous place]    めいしょ\n",
       "3     館      8                            [house, hall, building]      かん\n",
       "4    美術      8                                   [art, fine arts]    びじゅつ\n",
       "5    つい      8                                [pair, couple, set]      つい\n",
       "6    上級      7               [advanced level, high grade, senior]  じょうきゅう\n",
       "7     市      7                                             [city]       し\n",
       "8    日本      6                                            [Japan]     にほん\n",
       "9    あり      6                                              [ant]      あり"
      ]
     },
     "execution_count": 19,
     "metadata": {},
     "output_type": "execute_result"
    }
   ],
   "source": [
    "df_script"
   ]
  },
  {
   "cell_type": "code",
   "execution_count": 20,
   "metadata": {},
   "outputs": [
    {
     "data": {
      "text/plain": [
       "{'word': '館', 'reading': 'かん'}"
      ]
     },
     "execution_count": 20,
     "metadata": {},
     "output_type": "execute_result"
    }
   ],
   "source": [
    "client.search(df_script['vocab'][3]).get(\"data\")[0]['japanese'][0]"
   ]
  },
  {
   "cell_type": "code",
   "execution_count": 21,
   "metadata": {},
   "outputs": [
    {
     "data": {
      "text/plain": [
       "'倉敷'"
      ]
     },
     "execution_count": 21,
     "metadata": {},
     "output_type": "execute_result"
    }
   ],
   "source": [
    "df_script['vocab'][0]"
   ]
  },
  {
   "cell_type": "code",
   "execution_count": null,
   "metadata": {},
   "outputs": [],
   "source": []
  }
 ],
 "metadata": {
  "kernelspec": {
   "display_name": "Python 3",
   "language": "python",
   "name": "python3"
  },
  "language_info": {
   "codemirror_mode": {
    "name": "ipython",
    "version": 3
   },
   "file_extension": ".py",
   "mimetype": "text/x-python",
   "name": "python",
   "nbconvert_exporter": "python",
   "pygments_lexer": "ipython3",
   "version": "3.8.1"
  }
 },
 "nbformat": 4,
 "nbformat_minor": 4
}