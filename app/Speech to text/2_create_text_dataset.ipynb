{
 "cells": [
  {
   "cell_type": "code",
   "execution_count": 2,
   "metadata": {},
   "outputs": [],
   "source": [
    "import pandas as pd\n",
    "import joblib\n",
    "from processing.proc_text import transform_text_for_ml\n",
    "from constants import *"
   ]
  },
  {
   "cell_type": "code",
   "execution_count": 3,
   "metadata": {},
   "outputs": [
    {
     "name": "stderr",
     "output_type": "stream",
     "text": [
      "100%|█████████████████████████████████████████████████████████████████████████████| 500/500 [00:00<00:00, 83555.20it/s]\n"
     ]
    },
    {
     "data": {
      "text/plain": [
       "['data/vocabulary.pkl']"
      ]
     },
     "execution_count": 3,
     "metadata": {},
     "output_type": "execute_result"
    }
   ],
   "source": [
    "# import data\n",
    "metadata = pd.read_csv('data/english/LJSpeech-1.1/metadata.csv',\n",
    "                       dtype='object', quoting=3, sep='|',\n",
    "                       header=None)\n",
    "\n",
    "metadata = metadata.iloc[:500]\n",
    "\n",
    "metadata['norm_lower'] = metadata[1].apply(lambda x: x.lower())\n",
    "\n",
    "texts = metadata['norm_lower']\n",
    "\n",
    "# Infer the vocabulary\n",
    "list_of_existing_chars = list(set(texts.str.cat(sep=' ')))\n",
    "vocabulary = ''.join(list_of_existing_chars)\n",
    "vocabulary += 'P'  # add padding character\n",
    "\n",
    "# Create association between vocabulary and id\n",
    "vocabulary_id = {}\n",
    "i = 0\n",
    "for char in list(vocabulary):\n",
    "    vocabulary_id[char] = i\n",
    "    i += 1\n",
    "\n",
    "\n",
    "text_input_ml = transform_text_for_ml(texts.values,\n",
    "                                      vocabulary_id,\n",
    "                                      NB_CHARS_MAX)\n",
    "\n",
    "# split into training and testing\n",
    "len_train = int(TRAIN_SET_RATIO * len(metadata))\n",
    "text_input_ml_training = text_input_ml[:len_train]\n",
    "text_input_ml_testing = text_input_ml[len_train:]\n",
    "\n",
    "# save data\n",
    "joblib.dump(text_input_ml_training, 'data/text_input_ml_training.pkl')\n",
    "joblib.dump(text_input_ml_testing, 'data/text_input_ml_testing.pkl')\n",
    "\n",
    "joblib.dump(vocabulary_id, 'data/vocabulary.pkl')"
   ]
  },
  {
   "cell_type": "code",
   "execution_count": 4,
   "metadata": {},
   "outputs": [
    {
     "data": {
      "text/plain": [
       "'9pnc,tx6gwv.5f4r0;-£i7du\\'(!\"q3l m:2eha1skj8oz)byP'"
      ]
     },
     "execution_count": 4,
     "metadata": {},
     "output_type": "execute_result"
    }
   ],
   "source": [
    "vocabulary"
   ]
  },
  {
   "cell_type": "code",
   "execution_count": null,
   "metadata": {},
   "outputs": [],
   "source": []
  }
 ],
 "metadata": {
  "kernelspec": {
   "display_name": "Python 3",
   "language": "python",
   "name": "python3"
  },
  "language_info": {
   "codemirror_mode": {
    "name": "ipython",
    "version": 3
   },
   "file_extension": ".py",
   "mimetype": "text/x-python",
   "name": "python",
   "nbconvert_exporter": "python",
   "pygments_lexer": "ipython3",
   "version": "3.8.1"
  }
 },
 "nbformat": 4,
 "nbformat_minor": 4
}
