{
 "cells": [
  {
   "cell_type": "code",
   "execution_count": 1,
   "metadata": {},
   "outputs": [],
   "source": [
    "from constants import *\n",
    "import joblib\n",
    "from keras.optimizers import Adam\n",
    "from model.tacotron_model import get_tacotron_model"
   ]
  },
  {
   "cell_type": "code",
   "execution_count": 2,
   "metadata": {},
   "outputs": [
    {
     "data": {
      "text/plain": [
       "16"
      ]
     },
     "execution_count": 2,
     "metadata": {},
     "output_type": "execute_result"
    }
   ],
   "source": [
    "BATCH_SIZE"
   ]
  },
  {
   "cell_type": "code",
   "execution_count": 3,
   "metadata": {},
   "outputs": [],
   "source": [
    "import os\n",
    "os.environ[\"TF_FORCE_GPU_ALLOW_GROWTH\"]=\"true\"\n",
    "#os.environ[\"CUDA_VISIBLE_DEVICES\"] = \"-1\""
   ]
  },
  {
   "cell_type": "code",
   "execution_count": 4,
   "metadata": {},
   "outputs": [
    {
     "name": "stdout",
     "output_type": "stream",
     "text": [
      "2.4.0\n"
     ]
    }
   ],
   "source": [
    "import tensorflow as tf\n",
    "print(tf.version.VERSION)\n",
    "gpus = tf.config.list_physical_devices('GPU')"
   ]
  },
  {
   "cell_type": "code",
   "execution_count": 5,
   "metadata": {},
   "outputs": [
    {
     "name": "stdout",
     "output_type": "stream",
     "text": [
      "gpu\n"
     ]
    }
   ],
   "source": [
    "if gpus != []:\n",
    "    print(\"gpu\")\n",
    "    tf.config.experimental.set_memory_growth(gpus[0], True)\n",
    "    #tf.config.experimental.VirtualDeviceConfiguration(memory_limit=1024)"
   ]
  },
  {
   "cell_type": "code",
   "execution_count": 6,
   "metadata": {
    "tags": []
   },
   "outputs": [
    {
     "name": "stdout",
     "output_type": "stream",
     "text": [
      "Epoch 1/50\n",
      "24/24 [==============================] - 26s 304ms/step - loss: 0.5719 - reshape_1_loss: 0.4132 - reshape_2_loss: 0.1587 - val_loss: 0.4276 - val_reshape_1_loss: 0.3193 - val_reshape_2_loss: 0.1083\n",
      "Epoch 2/50\n",
      "24/24 [==============================] - 3s 139ms/step - loss: 0.2749 - reshape_1_loss: 0.1735 - reshape_2_loss: 0.1014 - val_loss: 0.6740 - val_reshape_1_loss: 0.5635 - val_reshape_2_loss: 0.1105\n",
      "Epoch 3/50\n",
      "24/24 [==============================] - 3s 138ms/step - loss: 0.1919 - reshape_1_loss: 0.0940 - reshape_2_loss: 0.0979 - val_loss: 0.5175 - val_reshape_1_loss: 0.4047 - val_reshape_2_loss: 0.1128\n",
      "Epoch 4/50\n",
      "24/24 [==============================] - 3s 137ms/step - loss: 0.1767 - reshape_1_loss: 0.0801 - reshape_2_loss: 0.0966 - val_loss: 0.3549 - val_reshape_1_loss: 0.2458 - val_reshape_2_loss: 0.1091\n",
      "Epoch 5/50\n",
      "24/24 [==============================] - 3s 142ms/step - loss: 0.1831 - reshape_1_loss: 0.0850 - reshape_2_loss: 0.0981 - val_loss: 0.2957 - val_reshape_1_loss: 0.1938 - val_reshape_2_loss: 0.1019\n",
      "Epoch 6/50\n",
      "24/24 [==============================] - 3s 142ms/step - loss: 0.1707 - reshape_1_loss: 0.0764 - reshape_2_loss: 0.0943 - val_loss: 0.3183 - val_reshape_1_loss: 0.2015 - val_reshape_2_loss: 0.1169\n",
      "Epoch 7/50\n",
      "24/24 [==============================] - 3s 135ms/step - loss: 0.1721 - reshape_1_loss: 0.0761 - reshape_2_loss: 0.0960 - val_loss: 0.2435 - val_reshape_1_loss: 0.1390 - val_reshape_2_loss: 0.1046\n",
      "Epoch 8/50\n",
      "24/24 [==============================] - 3s 137ms/step - loss: 0.1630 - reshape_1_loss: 0.0709 - reshape_2_loss: 0.0922 - val_loss: 0.2618 - val_reshape_1_loss: 0.1606 - val_reshape_2_loss: 0.1012\n",
      "Epoch 9/50\n",
      "24/24 [==============================] - 3s 135ms/step - loss: 0.1669 - reshape_1_loss: 0.0722 - reshape_2_loss: 0.0947 - val_loss: 0.2269 - val_reshape_1_loss: 0.1224 - val_reshape_2_loss: 0.1045\n",
      "Epoch 10/50\n",
      "24/24 [==============================] - 3s 140ms/step - loss: 0.1741 - reshape_1_loss: 0.0757 - reshape_2_loss: 0.0984 - val_loss: 0.2959 - val_reshape_1_loss: 0.1934 - val_reshape_2_loss: 0.1025\n",
      "Epoch 11/50\n",
      "24/24 [==============================] - 3s 138ms/step - loss: 0.1690 - reshape_1_loss: 0.0732 - reshape_2_loss: 0.0958 - val_loss: 0.2169 - val_reshape_1_loss: 0.1167 - val_reshape_2_loss: 0.1002\n",
      "Epoch 12/50\n",
      "24/24 [==============================] - 3s 139ms/step - loss: 0.1648 - reshape_1_loss: 0.0710 - reshape_2_loss: 0.0938 - val_loss: 0.2196 - val_reshape_1_loss: 0.1192 - val_reshape_2_loss: 0.1004\n",
      "Epoch 13/50\n",
      "24/24 [==============================] - 3s 142ms/step - loss: 0.1603 - reshape_1_loss: 0.0688 - reshape_2_loss: 0.0915 - val_loss: 0.2073 - val_reshape_1_loss: 0.1072 - val_reshape_2_loss: 0.1001\n",
      "Epoch 14/50\n",
      "24/24 [==============================] - 13s 554ms/step - loss: 0.1636 - reshape_1_loss: 0.0686 - reshape_2_loss: 0.0950 - val_loss: 0.2195 - val_reshape_1_loss: 0.1198 - val_reshape_2_loss: 0.0997\n",
      "Epoch 15/50\n",
      "24/24 [==============================] - 3s 139ms/step - loss: 0.1573 - reshape_1_loss: 0.0666 - reshape_2_loss: 0.0906 - val_loss: 0.1976 - val_reshape_1_loss: 0.0979 - val_reshape_2_loss: 0.0998\n",
      "Epoch 16/50\n",
      "24/24 [==============================] - 3s 138ms/step - loss: 0.1611 - reshape_1_loss: 0.0681 - reshape_2_loss: 0.0930 - val_loss: 0.1897 - val_reshape_1_loss: 0.0898 - val_reshape_2_loss: 0.0999\n",
      "Epoch 17/50\n",
      "24/24 [==============================] - 3s 138ms/step - loss: 0.1591 - reshape_1_loss: 0.0671 - reshape_2_loss: 0.0921 - val_loss: 0.1917 - val_reshape_1_loss: 0.0921 - val_reshape_2_loss: 0.0996\n",
      "Epoch 18/50\n",
      "24/24 [==============================] - 3s 136ms/step - loss: 0.1588 - reshape_1_loss: 0.0679 - reshape_2_loss: 0.0909 - val_loss: 0.1911 - val_reshape_1_loss: 0.0917 - val_reshape_2_loss: 0.0994\n",
      "Epoch 19/50\n",
      "24/24 [==============================] - 3s 140ms/step - loss: 0.1584 - reshape_1_loss: 0.0668 - reshape_2_loss: 0.0916 - val_loss: 0.2371 - val_reshape_1_loss: 0.1210 - val_reshape_2_loss: 0.1161\n",
      "Epoch 20/50\n",
      "24/24 [==============================] - 3s 140ms/step - loss: 0.1599 - reshape_1_loss: 0.0673 - reshape_2_loss: 0.0925 - val_loss: 0.2273 - val_reshape_1_loss: 0.1256 - val_reshape_2_loss: 0.1018\n",
      "Epoch 21/50\n",
      "24/24 [==============================] - 3s 138ms/step - loss: 0.1646 - reshape_1_loss: 0.0689 - reshape_2_loss: 0.0957 - val_loss: 0.2028 - val_reshape_1_loss: 0.1015 - val_reshape_2_loss: 0.1013\n",
      "Epoch 22/50\n",
      "24/24 [==============================] - 3s 138ms/step - loss: 0.1592 - reshape_1_loss: 0.0664 - reshape_2_loss: 0.0928 - val_loss: 0.2070 - val_reshape_1_loss: 0.1047 - val_reshape_2_loss: 0.1023\n",
      "Epoch 23/50\n",
      "24/24 [==============================] - 3s 138ms/step - loss: 0.1576 - reshape_1_loss: 0.0656 - reshape_2_loss: 0.0920 - val_loss: 0.2684 - val_reshape_1_loss: 0.1653 - val_reshape_2_loss: 0.1031\n",
      "Epoch 24/50\n",
      "24/24 [==============================] - 3s 136ms/step - loss: 0.1785 - reshape_1_loss: 0.0801 - reshape_2_loss: 0.0984 - val_loss: 0.5959 - val_reshape_1_loss: 0.3027 - val_reshape_2_loss: 0.2932\n",
      "Epoch 25/50\n",
      "24/24 [==============================] - 3s 138ms/step - loss: 0.4295 - reshape_1_loss: 0.3097 - reshape_2_loss: 0.1198 - val_loss: 1.9005 - val_reshape_1_loss: 1.7149 - val_reshape_2_loss: 0.1856\n",
      "Epoch 26/50\n",
      "24/24 [==============================] - 8s 363ms/step - loss: 0.3917 - reshape_1_loss: 0.2812 - reshape_2_loss: 0.1104 - val_loss: 5.1092 - val_reshape_1_loss: 4.9014 - val_reshape_2_loss: 0.2078\n",
      "Epoch 27/50\n",
      "24/24 [==============================] - 11s 238ms/step - loss: 0.1913 - reshape_1_loss: 0.0923 - reshape_2_loss: 0.0990 - val_loss: 2.7740 - val_reshape_1_loss: 2.6427 - val_reshape_2_loss: 0.1313\n",
      "Epoch 28/50\n",
      "24/24 [==============================] - 4s 151ms/step - loss: 0.1756 - reshape_1_loss: 0.0772 - reshape_2_loss: 0.0984 - val_loss: 1.2702 - val_reshape_1_loss: 1.1491 - val_reshape_2_loss: 0.1211\n",
      "Epoch 29/50\n",
      "24/24 [==============================] - 3s 141ms/step - loss: 0.1647 - reshape_1_loss: 0.0716 - reshape_2_loss: 0.0931 - val_loss: 0.6957 - val_reshape_1_loss: 0.5792 - val_reshape_2_loss: 0.1165\n",
      "Epoch 30/50\n",
      "24/24 [==============================] - 3s 136ms/step - loss: 0.1676 - reshape_1_loss: 0.0713 - reshape_2_loss: 0.0963 - val_loss: 1.8966 - val_reshape_1_loss: 1.7637 - val_reshape_2_loss: 0.1330\n",
      "Epoch 31/50\n",
      "24/24 [==============================] - 3s 144ms/step - loss: 0.1648 - reshape_1_loss: 0.0692 - reshape_2_loss: 0.0955 - val_loss: 2.3387 - val_reshape_1_loss: 2.2096 - val_reshape_2_loss: 0.1291\n",
      "Epoch 32/50\n",
      "24/24 [==============================] - 3s 140ms/step - loss: 0.1610 - reshape_1_loss: 0.0675 - reshape_2_loss: 0.0935 - val_loss: 1.7327 - val_reshape_1_loss: 1.5954 - val_reshape_2_loss: 0.1373\n",
      "Epoch 33/50\n",
      "24/24 [==============================] - 3s 139ms/step - loss: 0.1618 - reshape_1_loss: 0.0676 - reshape_2_loss: 0.0942 - val_loss: 0.3106 - val_reshape_1_loss: 0.2053 - val_reshape_2_loss: 0.1053\n",
      "Epoch 34/50\n",
      "24/24 [==============================] - 4s 148ms/step - loss: 0.1564 - reshape_1_loss: 0.0650 - reshape_2_loss: 0.0914 - val_loss: 0.6724 - val_reshape_1_loss: 0.5533 - val_reshape_2_loss: 0.1191\n",
      "Epoch 35/50\n",
      "24/24 [==============================] - 3s 138ms/step - loss: 0.1613 - reshape_1_loss: 0.0665 - reshape_2_loss: 0.0948 - val_loss: 0.2014 - val_reshape_1_loss: 0.0926 - val_reshape_2_loss: 0.1087\n",
      "Epoch 36/50\n",
      "24/24 [==============================] - 4s 150ms/step - loss: 0.1566 - reshape_1_loss: 0.0647 - reshape_2_loss: 0.0918 - val_loss: 0.1778 - val_reshape_1_loss: 0.0762 - val_reshape_2_loss: 0.1016\n",
      "Epoch 37/50\n",
      "24/24 [==============================] - 3s 141ms/step - loss: 0.1564 - reshape_1_loss: 0.0654 - reshape_2_loss: 0.0911 - val_loss: 0.2261 - val_reshape_1_loss: 0.1098 - val_reshape_2_loss: 0.1163\n",
      "Epoch 38/50\n",
      "24/24 [==============================] - 3s 145ms/step - loss: 0.1590 - reshape_1_loss: 0.0649 - reshape_2_loss: 0.0942 - val_loss: 0.3634 - val_reshape_1_loss: 0.2554 - val_reshape_2_loss: 0.1079\n",
      "Epoch 39/50\n",
      "24/24 [==============================] - 3s 133ms/step - loss: 0.1583 - reshape_1_loss: 0.0651 - reshape_2_loss: 0.0932 - val_loss: 0.2081 - val_reshape_1_loss: 0.1059 - val_reshape_2_loss: 0.1022\n",
      "Epoch 40/50\n",
      "24/24 [==============================] - 3s 137ms/step - loss: 0.1586 - reshape_1_loss: 0.0652 - reshape_2_loss: 0.0935 - val_loss: 0.2166 - val_reshape_1_loss: 0.1100 - val_reshape_2_loss: 0.1066\n",
      "Epoch 41/50\n",
      "24/24 [==============================] - 3s 135ms/step - loss: 0.1596 - reshape_1_loss: 0.0655 - reshape_2_loss: 0.0941 - val_loss: 0.2236 - val_reshape_1_loss: 0.1149 - val_reshape_2_loss: 0.1087\n",
      "Epoch 42/50\n",
      "24/24 [==============================] - 3s 138ms/step - loss: 0.1584 - reshape_1_loss: 0.0654 - reshape_2_loss: 0.0929 - val_loss: 0.1930 - val_reshape_1_loss: 0.0900 - val_reshape_2_loss: 0.1030\n",
      "Epoch 43/50\n",
      "24/24 [==============================] - 3s 143ms/step - loss: 0.1549 - reshape_1_loss: 0.0635 - reshape_2_loss: 0.0914 - val_loss: 0.1900 - val_reshape_1_loss: 0.0902 - val_reshape_2_loss: 0.0997\n",
      "Epoch 44/50\n",
      "24/24 [==============================] - 4s 147ms/step - loss: 0.1569 - reshape_1_loss: 0.0647 - reshape_2_loss: 0.0922 - val_loss: 0.2121 - val_reshape_1_loss: 0.1059 - val_reshape_2_loss: 0.1062\n",
      "Epoch 45/50\n",
      "24/24 [==============================] - 3s 144ms/step - loss: 0.1546 - reshape_1_loss: 0.0632 - reshape_2_loss: 0.0914 - val_loss: 0.2112 - val_reshape_1_loss: 0.1037 - val_reshape_2_loss: 0.1075\n",
      "Epoch 46/50\n",
      "24/24 [==============================] - 3s 144ms/step - loss: 0.1551 - reshape_1_loss: 0.0638 - reshape_2_loss: 0.0913 - val_loss: 0.2198 - val_reshape_1_loss: 0.1129 - val_reshape_2_loss: 0.1069\n",
      "Epoch 47/50\n",
      "24/24 [==============================] - 3s 142ms/step - loss: 0.1512 - reshape_1_loss: 0.0625 - reshape_2_loss: 0.0887 - val_loss: 0.2200 - val_reshape_1_loss: 0.1113 - val_reshape_2_loss: 0.1087\n",
      "Epoch 48/50\n",
      "24/24 [==============================] - 3s 145ms/step - loss: 0.1589 - reshape_1_loss: 0.0660 - reshape_2_loss: 0.0929 - val_loss: 0.2276 - val_reshape_1_loss: 0.1242 - val_reshape_2_loss: 0.1033\n",
      "Epoch 49/50\n",
      "24/24 [==============================] - 3s 141ms/step - loss: 0.1516 - reshape_1_loss: 0.0632 - reshape_2_loss: 0.0884 - val_loss: 0.2094 - val_reshape_1_loss: 0.1078 - val_reshape_2_loss: 0.1016\n",
      "Epoch 50/50\n",
      "24/24 [==============================] - 3s 136ms/step - loss: 0.1552 - reshape_1_loss: 0.0646 - reshape_2_loss: 0.0906 - val_loss: 0.2048 - val_reshape_1_loss: 0.1018 - val_reshape_2_loss: 0.1030\n"
     ]
    }
   ],
   "source": [
    "# import prepared data\n",
    "decoder_input_training = joblib.load('data/decoder_input_training.pkl')\n",
    "mel_spectro_training = joblib.load('data/mel_spectro_training.pkl')\n",
    "spectro_training = joblib.load('data/spectro_training.pkl')\n",
    "\n",
    "text_input_training = joblib.load('data/text_input_ml_training.pkl')\n",
    "vocabulary = joblib.load('data/vocabulary.pkl')\n",
    "\n",
    "model = get_tacotron_model(N_MEL, r, K1, K2, NB_CHARS_MAX,\n",
    "                           EMBEDDING_SIZE, MAX_MEL_TIME_LENGTH,\n",
    "                           MAX_MAG_TIME_LENGTH, N_FFT,\n",
    "                           vocabulary)\n",
    "\n",
    "opt = Adam()\n",
    "model.compile(optimizer=opt,\n",
    "              loss=['mean_absolute_error', 'mean_absolute_error'])\n",
    "\n",
    "train_history = model.fit([text_input_training, decoder_input_training],\n",
    "                          [mel_spectro_training, spectro_training],\n",
    "                          epochs=NB_EPOCHS, batch_size=BATCH_SIZE,\n",
    "                          verbose=1, validation_split=0.15)\n",
    "\n",
    "\n",
    "joblib.dump(train_history.history, 'results/training_history.pkl')\n",
    "model.save('results/model.h5')"
   ]
  }
 ],
 "metadata": {
  "kernelspec": {
   "display_name": "PyCharm (TS)",
   "language": "python",
   "name": "pycharm-6df89efa"
  },
  "language_info": {
   "codemirror_mode": {
    "name": "ipython",
    "version": 3
   },
   "file_extension": ".py",
   "mimetype": "text/x-python",
   "name": "python",
   "nbconvert_exporter": "python",
   "pygments_lexer": "ipython3",
   "version": "3.8.1"
  }
 },
 "nbformat": 4,
 "nbformat_minor": 4
}
