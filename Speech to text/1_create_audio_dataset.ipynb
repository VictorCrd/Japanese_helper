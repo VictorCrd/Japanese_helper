{
 "cells": [
  {
   "cell_type": "code",
   "execution_count": 1,
   "metadata": {},
   "outputs": [
    {
     "name": "stdout",
     "output_type": "stream",
     "text": [
      "WARNING:tensorflow:From C:\\Users\\happy\\AppData\\Local\\Programs\\Python\\Python38\\lib\\site-packages\\tensorflow\\python\\compat\\v2_compat.py:96: disable_resource_variables (from tensorflow.python.ops.variable_scope) is deprecated and will be removed in a future version.\n",
      "Instructions for updating:\n",
      "non-resource variables are not supported in the long term\n"
     ]
    }
   ],
   "source": [
    "import pandas as pd\n",
    "import numpy as np\n",
    "import joblib\n",
    "from tqdm import tqdm\n",
    "from processing.proc_audio import get_padded_spectros\n",
    "from constants import *\n",
    "import tensorflow as tf\n",
    "import tensorflow.compat.v1 as tf\n",
    "tf.disable_v2_behavior()"
   ]
  },
  {
   "cell_type": "code",
   "execution_count": 2,
   "metadata": {},
   "outputs": [
    {
     "data": {
      "text/plain": [
       "850"
      ]
     },
     "execution_count": 2,
     "metadata": {},
     "output_type": "execute_result"
    }
   ],
   "source": [
    "MAX_MAG_TIME_LENGTH"
   ]
  },
  {
   "cell_type": "code",
   "execution_count": 4,
   "metadata": {},
   "outputs": [
    {
     "name": "stderr",
     "output_type": "stream",
     "text": [
      "  0%|                                                                                          | 0/500 [00:00<?, ?it/s]"
     ]
    },
    {
     "name": "stdout",
     "output_type": "stream",
     "text": [
      "Loading the data...\n",
      "Processing the audio samples (computation of spectrograms)...\n"
     ]
    },
    {
     "name": "stderr",
     "output_type": "stream",
     "text": [
      "100%|████████████████████████████████████████████████████████████████████████████████| 500/500 [01:16<00:00,  6.50it/s]\n"
     ]
    },
    {
     "name": "stdout",
     "output_type": "stream",
     "text": [
      "Convert into np.array\n",
      "Split into training and testing data\n",
      "Save data as pkl\n"
     ]
    },
    {
     "data": {
      "text/plain": [
       "['data/spectro_testing.pkl']"
      ]
     },
     "execution_count": 4,
     "metadata": {},
     "output_type": "execute_result"
    }
   ],
   "source": [
    "sess = tf.Session()\n",
    "\n",
    "print('Loading the data...')\n",
    "metadata = pd.read_csv('Data/english/LJSpeech-1.1/metadata.csv',\n",
    "                       dtype='object', quoting=3, sep='|', header=None)\n",
    "\n",
    "metadata = metadata.iloc[:500]\n",
    "\n",
    "# audio filenames\n",
    "dot_wav_filenames = metadata[0].values\n",
    "\n",
    "\n",
    "mel_spectro_data = []\n",
    "spectro_data = []\n",
    "decoder_input = []\n",
    "print('Processing the audio samples (computation of spectrograms)...')\n",
    "for filename in tqdm(dot_wav_filenames):\n",
    "    file_path = 'data/english/LJSpeech-1.1/wavs/' + filename + '.wav'\n",
    "    fname, mel_spectro, spectro = get_padded_spectros(file_path, r,\n",
    "                                                      PREEMPHASIS, N_FFT,\n",
    "                                                      HOP_LENGTH, WIN_LENGTH,\n",
    "                                                      SAMPLING_RATE,\n",
    "                                                      N_MEL, REF_DB,\n",
    "                                                      MAX_DB)\n",
    "    \n",
    "    if spectro.shape[0] <= 850:\n",
    "        decod_inp_tensor = tf.concat((tf.zeros_like(mel_spectro[:1, :]),\n",
    "                                      mel_spectro[:-1, :]), 0)\n",
    "        decod_inp = sess.run(decod_inp_tensor)\n",
    "        decod_inp = decod_inp[:, -N_MEL:]\n",
    "\n",
    "        # Padding of the temporal dimension\n",
    "        dim0_mel_spectro = mel_spectro.shape[0]\n",
    "        dim1_mel_spectro = mel_spectro.shape[1]\n",
    "        padded_mel_spectro = np.zeros((MAX_MEL_TIME_LENGTH, dim1_mel_spectro))\n",
    "        padded_mel_spectro[:dim0_mel_spectro, :dim1_mel_spectro] = mel_spectro\n",
    "\n",
    "        dim0_decod_inp = decod_inp.shape[0]\n",
    "        dim1_decod_inp = decod_inp.shape[1]\n",
    "        padded_decod_input = np.zeros((MAX_MEL_TIME_LENGTH, dim1_decod_inp))\n",
    "        padded_decod_input[:dim0_decod_inp, :dim1_decod_inp] = decod_inp\n",
    "\n",
    "        dim0_spectro = spectro.shape[0]\n",
    "        dim1_spectro = spectro.shape[1]\n",
    "        padded_spectro = np.zeros((MAX_MAG_TIME_LENGTH, dim1_spectro))\n",
    "        padded_spectro[:dim0_spectro, :dim1_spectro] = spectro\n",
    "\n",
    "        mel_spectro_data.append(padded_mel_spectro)\n",
    "        spectro_data.append(padded_spectro)\n",
    "        decoder_input.append(padded_decod_input)\n",
    "\n",
    "\n",
    "print('Convert into np.array')\n",
    "decoder_input_array = np.array(decoder_input)\n",
    "mel_spectro_data_array = np.array(mel_spectro_data)\n",
    "spectro_data_array = np.array(spectro_data)\n",
    "\n",
    "print('Split into training and testing data')\n",
    "len_train = int(TRAIN_SET_RATIO * len(metadata))\n",
    "\n",
    "decoder_input_array_training = decoder_input_array[:len_train]\n",
    "decoder_input_array_testing = decoder_input_array[len_train:]\n",
    "\n",
    "mel_spectro_data_array_training = mel_spectro_data_array[:len_train]\n",
    "mel_spectro_data_array_testing = mel_spectro_data_array[len_train:]\n",
    "\n",
    "spectro_data_array_training = spectro_data_array[:len_train]\n",
    "spectro_data_array_testing = spectro_data_array[len_train:]\n",
    "\n",
    "\n",
    "print('Save data as pkl')\n",
    "joblib.dump(decoder_input_array_training,\n",
    "            'data/decoder_input_training.pkl')\n",
    "joblib.dump(mel_spectro_data_array_training,\n",
    "            'data/mel_spectro_training.pkl')\n",
    "joblib.dump(spectro_data_array_training,\n",
    "            'data/spectro_training.pkl')\n",
    "\n",
    "joblib.dump(decoder_input_array_testing,\n",
    "            'data/decoder_input_testing.pkl')\n",
    "joblib.dump(mel_spectro_data_array_testing,\n",
    "            'data/mel_spectro_testing.pkl')\n",
    "joblib.dump(spectro_data_array_testing,\n",
    "            'data/spectro_testing.pkl')"
   ]
  },
  {
   "cell_type": "code",
   "execution_count": null,
   "metadata": {},
   "outputs": [],
   "source": []
  }
 ],
 "metadata": {
  "kernelspec": {
   "display_name": "PyCharm (TS)",
   "language": "python",
   "name": "pycharm-6df89efa"
  },
  "language_info": {
   "codemirror_mode": {
    "name": "ipython",
    "version": 3
   },
   "file_extension": ".py",
   "mimetype": "text/x-python",
   "name": "python",
   "nbconvert_exporter": "python",
   "pygments_lexer": "ipython3",
   "version": "3.8.1"
  }
 },
 "nbformat": 4,
 "nbformat_minor": 4
}
