{
 "cells": [
  {
   "cell_type": "markdown",
   "metadata": {},
   "source": [
    "# Import"
   ]
  },
  {
   "cell_type": "code",
   "execution_count": 1,
   "metadata": {},
   "outputs": [],
   "source": [
    "from youtube_transcript_api import YouTubeTranscriptApi\n",
    "import pandas as pd\n",
    "import numpy as np\n",
    "pd.options.display.max_rows = 200\n",
    "pd.options.display.max_columns = 200"
   ]
  },
  {
   "cell_type": "code",
   "execution_count": 50,
   "metadata": {},
   "outputs": [],
   "source": [
    "Core_Japanese_Vocabulary = pd.read_csv(\"JLPT_Voca_csv/Core_Japanese_Vocabulary.csv\")"
   ]
  },
  {
   "cell_type": "code",
   "execution_count": 51,
   "metadata": {},
   "outputs": [],
   "source": [
    "Core_Japanese_Vocabulary_N5 = pd.read_csv(\"JLPT_Voca_csv/Core_Japanese_Vocabulary_N5.csv\")\n",
    "Core_Japanese_Vocabulary_N4 = pd.read_csv(\"JLPT_Voca_csv/Core_Japanese_Vocabulary_N4.csv\")\n",
    "Core_Japanese_Vocabulary_N3 = pd.read_csv(\"JLPT_Voca_csv/Core_Japanese_Vocabulary_N3.csv\")\n",
    "Core_Japanese_Vocabulary_N2 = pd.read_csv(\"JLPT_Voca_csv/Core_Japanese_Vocabulary_N2.csv\")\n",
    "Core_Japanese_Vocabulary_N1 = pd.read_csv(\"JLPT_Voca_csv/Core_Japanese_Vocabulary_N1.csv\")"
   ]
  },
  {
   "cell_type": "code",
   "execution_count": 52,
   "metadata": {},
   "outputs": [
    {
     "data": {
      "text/html": [
       "<div>\n",
       "<style scoped>\n",
       "    .dataframe tbody tr th:only-of-type {\n",
       "        vertical-align: middle;\n",
       "    }\n",
       "\n",
       "    .dataframe tbody tr th {\n",
       "        vertical-align: top;\n",
       "    }\n",
       "\n",
       "    .dataframe thead th {\n",
       "        text-align: right;\n",
       "    }\n",
       "</style>\n",
       "<table border=\"1\" class=\"dataframe\">\n",
       "  <thead>\n",
       "    <tr style=\"text-align: right;\">\n",
       "      <th></th>\n",
       "      <th>Expression</th>\n",
       "      <th>Meaning</th>\n",
       "      <th>Reading</th>\n",
       "      <th>Grammar</th>\n",
       "      <th>Additional_meaning</th>\n",
       "      <th>Marqueurs</th>\n",
       "    </tr>\n",
       "  </thead>\n",
       "  <tbody>\n",
       "    <tr>\n",
       "      <th>0</th>\n",
       "      <td>学校</td>\n",
       "      <td>school</td>\n",
       "      <td>学校[がっこう]</td>\n",
       "      <td>Noun</td>\n",
       "      <td>NaN</td>\n",
       "      <td>jlpt-n5</td>\n",
       "    </tr>\n",
       "    <tr>\n",
       "      <th>1</th>\n",
       "      <td>川</td>\n",
       "      <td>river, stream</td>\n",
       "      <td>川[かわ]</td>\n",
       "      <td>Noun</td>\n",
       "      <td>River, the ... river</td>\n",
       "      <td>jlpt-n3 jlpt-n5 jlpt-n3 jlpt-n5</td>\n",
       "    </tr>\n",
       "    <tr>\n",
       "      <th>2</th>\n",
       "      <td>手</td>\n",
       "      <td>hand, arm</td>\n",
       "      <td>手[て]</td>\n",
       "      <td>Noun</td>\n",
       "      <td>forepaw, foreleg; handle; hand, worker, help; ...</td>\n",
       "      <td>jlpt-n5 jlpt-n5</td>\n",
       "    </tr>\n",
       "    <tr>\n",
       "      <th>3</th>\n",
       "      <td>戸</td>\n",
       "      <td>door (esp. Japanese-style)</td>\n",
       "      <td>戸[と]</td>\n",
       "      <td>Noun</td>\n",
       "      <td>shutter, window shutter; entrance (to a home);...</td>\n",
       "      <td>jlpt-n5 jlpt-n5</td>\n",
       "    </tr>\n",
       "    <tr>\n",
       "      <th>4</th>\n",
       "      <td>眼鏡</td>\n",
       "      <td>glasses, eyeglasses, spectacles</td>\n",
       "      <td>眼鏡[めがね]</td>\n",
       "      <td>Noun</td>\n",
       "      <td>judgment, judgement, discrimination, discernme...</td>\n",
       "      <td>jlpt-n1 jlpt-n5 jlpt-n1 jlpt-n5</td>\n",
       "    </tr>\n",
       "    <tr>\n",
       "      <th>...</th>\n",
       "      <td>...</td>\n",
       "      <td>...</td>\n",
       "      <td>...</td>\n",
       "      <td>...</td>\n",
       "      <td>...</td>\n",
       "      <td>...</td>\n",
       "    </tr>\n",
       "    <tr>\n",
       "      <th>649</th>\n",
       "      <td>燐寸</td>\n",
       "      <td>match (to light fire with)</td>\n",
       "      <td>燐寸[マッチ]</td>\n",
       "      <td>Noun</td>\n",
       "      <td>NaN</td>\n",
       "      <td>jlpt-n5</td>\n",
       "    </tr>\n",
       "    <tr>\n",
       "      <th>650</th>\n",
       "      <td>字引</td>\n",
       "      <td>dictionary</td>\n",
       "      <td>字引[じびき]</td>\n",
       "      <td>Noun</td>\n",
       "      <td>NaN</td>\n",
       "      <td>jlpt-n5 jlpt-n5</td>\n",
       "    </tr>\n",
       "    <tr>\n",
       "      <th>651</th>\n",
       "      <td>咖哩</td>\n",
       "      <td>curry</td>\n",
       "      <td>咖哩[カレー]</td>\n",
       "      <td>Noun</td>\n",
       "      <td>rice and curry</td>\n",
       "      <td>jlpt-n5</td>\n",
       "    </tr>\n",
       "    <tr>\n",
       "      <th>652</th>\n",
       "      <td>ラジカセ</td>\n",
       "      <td>radio-cassette player</td>\n",
       "      <td>ラジカセ</td>\n",
       "      <td>Noun</td>\n",
       "      <td>NaN</td>\n",
       "      <td>jlpt-n5 jlpt-n5</td>\n",
       "    </tr>\n",
       "    <tr>\n",
       "      <th>653</th>\n",
       "      <td>ＰＥＴ</td>\n",
       "      <td>polyethylene terephthalate, PET</td>\n",
       "      <td>ＰＥＴ</td>\n",
       "      <td>Noun</td>\n",
       "      <td>positron emission tomography, PET</td>\n",
       "      <td>jlpt-n5</td>\n",
       "    </tr>\n",
       "  </tbody>\n",
       "</table>\n",
       "<p>654 rows × 6 columns</p>\n",
       "</div>"
      ],
      "text/plain": [
       "    Expression                          Meaning   Reading Grammar  \\\n",
       "0           学校                           school  学校[がっこう]    Noun   \n",
       "1            川                    river, stream     川[かわ]    Noun   \n",
       "2            手                        hand, arm      手[て]    Noun   \n",
       "3            戸       door (esp. Japanese-style)      戸[と]    Noun   \n",
       "4           眼鏡  glasses, eyeglasses, spectacles   眼鏡[めがね]    Noun   \n",
       "..         ...                              ...       ...     ...   \n",
       "649         燐寸       match (to light fire with)   燐寸[マッチ]    Noun   \n",
       "650         字引                       dictionary   字引[じびき]    Noun   \n",
       "651         咖哩                            curry   咖哩[カレー]    Noun   \n",
       "652       ラジカセ            radio-cassette player      ラジカセ    Noun   \n",
       "653        ＰＥＴ  polyethylene terephthalate, PET       ＰＥＴ    Noun   \n",
       "\n",
       "                                    Additional_meaning  \\\n",
       "0                                                  NaN   \n",
       "1                                 River, the ... river   \n",
       "2    forepaw, foreleg; handle; hand, worker, help; ...   \n",
       "3    shutter, window shutter; entrance (to a home);...   \n",
       "4    judgment, judgement, discrimination, discernme...   \n",
       "..                                                 ...   \n",
       "649                                                NaN   \n",
       "650                                                NaN   \n",
       "651                                     rice and curry   \n",
       "652                                                NaN   \n",
       "653                  positron emission tomography, PET   \n",
       "\n",
       "                           Marqueurs  \n",
       "0                            jlpt-n5  \n",
       "1    jlpt-n3 jlpt-n5 jlpt-n3 jlpt-n5  \n",
       "2                    jlpt-n5 jlpt-n5  \n",
       "3                    jlpt-n5 jlpt-n5  \n",
       "4    jlpt-n1 jlpt-n5 jlpt-n1 jlpt-n5  \n",
       "..                               ...  \n",
       "649                          jlpt-n5  \n",
       "650                  jlpt-n5 jlpt-n5  \n",
       "651                          jlpt-n5  \n",
       "652                  jlpt-n5 jlpt-n5  \n",
       "653                          jlpt-n5  \n",
       "\n",
       "[654 rows x 6 columns]"
      ]
     },
     "execution_count": 52,
     "metadata": {},
     "output_type": "execute_result"
    }
   ],
   "source": [
    "Core_Japanese_Vocabulary_N5"
   ]
  },
  {
   "cell_type": "markdown",
   "metadata": {},
   "source": [
    "# Get subtitles (youtube)"
   ]
  },
  {
   "cell_type": "markdown",
   "metadata": {},
   "source": [
    "JLPT_N5youtube-transcript-api doc \n",
    "https://pypi.org/project/youtube-transcript-api/#description"
   ]
  },
  {
   "cell_type": "code",
   "execution_count": 5,
   "metadata": {},
   "outputs": [],
   "source": [
    "def get_yt_sub(youtube_id):\n",
    "    st = YouTubeTranscriptApi.get_transcript(youtube_id, languages = ['ja'])\n",
    "    res = [ sub['text'] for sub in st ] \n",
    "    df = pd.DataFrame({'phrases':res})\n",
    "    df = df.replace('\\n',' ', regex=True)\n",
    "    \n",
    "    return df"
   ]
  },
  {
   "cell_type": "markdown",
   "metadata": {},
   "source": [
    "# Import csv"
   ]
  },
  {
   "cell_type": "code",
   "execution_count": 6,
   "metadata": {},
   "outputs": [],
   "source": [
    "Ntwo_raw = pd.read_csv(\"JLPT_Voca_csv/N2.csv\", sep='\\t')\n",
    "Nfor_raw = pd.read_csv(\"JLPT_Voca_csv/N4.csv\", sep='\\t')\n",
    "Nfive_raw = pd.read_csv(\"JLPT_Voca_csv/N5.csv\", sep='\\t')\n",
    "\n",
    "Ntwo_raw = Ntwo_raw.drop(columns = ['Type', '#'])\n",
    "Nfor_raw = Nfor_raw.drop(columns = ['Type', '#'])\n",
    "Nfive_raw = Nfive_raw.drop(columns = ['Type', '#'])"
   ]
  },
  {
   "cell_type": "code",
   "execution_count": 7,
   "metadata": {},
   "outputs": [],
   "source": [
    "Ntwo_raw[\"Kana_Kanji\"] = Ntwo_raw[\"Kanji\"] \n",
    "Ntwo_raw[\"Kana_Kanji\"] = Ntwo_raw[\"Kana_Kanji\"].fillna(Ntwo_raw[\"Kana\"])\n",
    "\n",
    "Nfor_raw[\"Kana_Kanji\"] = Nfor_raw[\"Kanji\"] \n",
    "Nfor_raw[\"Kana_Kanji\"] = Nfor_raw[\"Kana_Kanji\"].fillna(Nfor_raw[\"Kana\"])\n",
    "\n",
    "Nfive_raw[\"Kana_Kanji\"] = Nfive_raw[\"Kanji\"] \n",
    "Nfive_raw[\"Kana_Kanji\"] = Nfive_raw[\"Kana_Kanji\"].fillna(Nfive_raw[\"Kana\"])"
   ]
  },
  {
   "cell_type": "code",
   "execution_count": 8,
   "metadata": {},
   "outputs": [],
   "source": [
    "passthree_raw = pd.read_csv(\"JLPT_Voca_csv/passjapanesetest.com_N3_Vocabulary.csv\", encoding = \"S-JIS\") "
   ]
  },
  {
   "cell_type": "code",
   "execution_count": 9,
   "metadata": {},
   "outputs": [],
   "source": [
    "passfor_raw = pd.read_csv(\"JLPT_Voca_csv/passjapanesetest.com_N4_Vocabulary-sjis.csv\", encoding = \"S-JIS\") "
   ]
  },
  {
   "cell_type": "code",
   "execution_count": 10,
   "metadata": {},
   "outputs": [],
   "source": [
    "passfive_raw = pd.read_csv(\"JLPT_Voca_csv/passjapanesetest.com_N5_Vocabulary.csv\", encoding = \"S-JIS\") "
   ]
  },
  {
   "cell_type": "code",
   "execution_count": 11,
   "metadata": {},
   "outputs": [],
   "source": [
    "JLPT_N5 = pd.read_csv(\"JLPT_Voca_csv/JLPT_N5.csv\", sep='\\t') "
   ]
  },
  {
   "cell_type": "code",
   "execution_count": 12,
   "metadata": {},
   "outputs": [],
   "source": [
    "JLPT_N4 = pd.read_csv(\"JLPT_Voca_csv/JLPT_N4.csv\", sep='\\t') "
   ]
  },
  {
   "cell_type": "code",
   "execution_count": 13,
   "metadata": {},
   "outputs": [],
   "source": [
    "JLPT_N3 = pd.read_csv(\"JLPT_Voca_csv/JLPT_N3.csv\", sep='\\t') "
   ]
  },
  {
   "cell_type": "code",
   "execution_count": 14,
   "metadata": {},
   "outputs": [],
   "source": [
    "japanese_lemmas = pd.read_csv(\"JLPT_Voca_csv/japanese_lemmas.csv\") "
   ]
  },
  {
   "cell_type": "markdown",
   "metadata": {},
   "source": [
    "# Merge csv "
   ]
  },
  {
   "cell_type": "code",
   "execution_count": 15,
   "metadata": {},
   "outputs": [],
   "source": [
    "NLPT5 = pd.concat([Nfive_raw[\"Kana_Kanji\"], passfive_raw[\"Kanji\"], JLPT_N5[\"Japanese\"]], ignore_index = True).drop_duplicates().reset_index(drop = True)"
   ]
  },
  {
   "cell_type": "code",
   "execution_count": 16,
   "metadata": {},
   "outputs": [],
   "source": [
    "NLPT4 = pd.concat([Nfor_raw[\"Kana_Kanji\"], passfor_raw[\"Kanji\"], JLPT_N4[\"Japanese\"]], ignore_index = True).drop_duplicates().reset_index(drop = True)"
   ]
  },
  {
   "cell_type": "code",
   "execution_count": 17,
   "metadata": {},
   "outputs": [],
   "source": [
    "NLPT3 = pd.concat([passthree_raw[\"Kanji\"], JLPT_N3[\"Japanese\"]], ignore_index = True).drop_duplicates().reset_index(drop = True)"
   ]
  },
  {
   "cell_type": "code",
   "execution_count": 18,
   "metadata": {},
   "outputs": [],
   "source": [
    "NLPT5 = pd.DataFrame({'vocab':NLPT5})\n",
    "NLPT4 = pd.DataFrame({'vocab':NLPT4})\n",
    "NLPT3 = pd.DataFrame({'vocab':NLPT3})"
   ]
  },
  {
   "cell_type": "code",
   "execution_count": 19,
   "metadata": {},
   "outputs": [],
   "source": [
    "NLPT3[\"count\"] = 0\n",
    "NLPT4[\"count\"] = 0\n",
    "NLPT5[\"count\"] = 0"
   ]
  },
  {
   "cell_type": "code",
   "execution_count": 20,
   "metadata": {},
   "outputs": [
    {
     "data": {
      "text/html": [
       "<div>\n",
       "<style scoped>\n",
       "    .dataframe tbody tr th:only-of-type {\n",
       "        vertical-align: middle;\n",
       "    }\n",
       "\n",
       "    .dataframe tbody tr th {\n",
       "        vertical-align: top;\n",
       "    }\n",
       "\n",
       "    .dataframe thead th {\n",
       "        text-align: right;\n",
       "    }\n",
       "</style>\n",
       "<table border=\"1\" class=\"dataframe\">\n",
       "  <thead>\n",
       "    <tr style=\"text-align: right;\">\n",
       "      <th></th>\n",
       "      <th>vocab</th>\n",
       "      <th>count</th>\n",
       "    </tr>\n",
       "  </thead>\n",
       "  <tbody>\n",
       "    <tr>\n",
       "      <th>0</th>\n",
       "      <td>ああ</td>\n",
       "      <td>0</td>\n",
       "    </tr>\n",
       "    <tr>\n",
       "      <th>1</th>\n",
       "      <td>会う</td>\n",
       "      <td>0</td>\n",
       "    </tr>\n",
       "    <tr>\n",
       "      <th>2</th>\n",
       "      <td>青</td>\n",
       "      <td>0</td>\n",
       "    </tr>\n",
       "    <tr>\n",
       "      <th>3</th>\n",
       "      <td>青い</td>\n",
       "      <td>0</td>\n",
       "    </tr>\n",
       "    <tr>\n",
       "      <th>4</th>\n",
       "      <td>赤</td>\n",
       "      <td>0</td>\n",
       "    </tr>\n",
       "    <tr>\n",
       "      <th>...</th>\n",
       "      <td>...</td>\n",
       "      <td>...</td>\n",
       "    </tr>\n",
       "    <tr>\n",
       "      <th>843</th>\n",
       "      <td>二月</td>\n",
       "      <td>0</td>\n",
       "    </tr>\n",
       "    <tr>\n",
       "      <th>844</th>\n",
       "      <td>詰らない</td>\n",
       "      <td>0</td>\n",
       "    </tr>\n",
       "    <tr>\n",
       "      <th>845</th>\n",
       "      <td>お肉</td>\n",
       "      <td>0</td>\n",
       "    </tr>\n",
       "    <tr>\n",
       "      <th>846</th>\n",
       "      <td>出ます</td>\n",
       "      <td>0</td>\n",
       "    </tr>\n",
       "    <tr>\n",
       "      <th>847</th>\n",
       "      <td>伯母さん</td>\n",
       "      <td>0</td>\n",
       "    </tr>\n",
       "  </tbody>\n",
       "</table>\n",
       "<p>848 rows × 2 columns</p>\n",
       "</div>"
      ],
      "text/plain": [
       "    vocab  count\n",
       "0      ああ      0\n",
       "1      会う      0\n",
       "2       青      0\n",
       "3      青い      0\n",
       "4       赤      0\n",
       "..    ...    ...\n",
       "843    二月      0\n",
       "844  詰らない      0\n",
       "845    お肉      0\n",
       "846   出ます      0\n",
       "847  伯母さん      0\n",
       "\n",
       "[848 rows x 2 columns]"
      ]
     },
     "execution_count": 20,
     "metadata": {},
     "output_type": "execute_result"
    }
   ],
   "source": [
    "NLPT5"
   ]
  },
  {
   "cell_type": "markdown",
   "metadata": {},
   "source": [
    "# Find nbr of NLPT word by level"
   ]
  },
  {
   "cell_type": "code",
   "execution_count": 26,
   "metadata": {},
   "outputs": [],
   "source": [
    "def count_words_in_text(df_words, df_subtitles, column_words):\n",
    "    \n",
    "    for i in range(0, len(df_words)):\n",
    "        df_words[\"count\"].loc[i] = len(df_subtitles[df_subtitles['phrases'].str.contains(df_words[column_words][i])])\n",
    "        lemmas_sum = np.count_nonzero(df_words[\"count\"])\n",
    "        \n",
    "    return lemmas_sum\n",
    "\n",
    "def sum_words_in_text(df_words, df_subtitles, column_words):\n",
    "    \n",
    "    for i in range(0, len(df_words)):\n",
    "        df_words[\"count\"].loc[i] = len(df_subtitles[df_subtitles['phrases'].str.contains(df_words[column_words][i])])\n",
    "        lemmas_sum = df_words[\"count\"].sum()\n",
    "        \n",
    "    return lemmas_sum"
   ]
  },
  {
   "cell_type": "code",
   "execution_count": 27,
   "metadata": {},
   "outputs": [],
   "source": [
    "def JLPT_lvl(df_subtitles):\n",
    "    NLPT3[\"count\"], NLPT4[\"count\"], NLPT5[\"count\"] = 0, 0, 0\n",
    "    NLPT3_sum, NLPT4_sum, NLPT5_sum = 0, 0, 0\n",
    "    \n",
    "    NLPT5_sum = sum_words_in_text(NLPT5, df_subtitles, \"vocab\")  \n",
    "    NLPT4_sum = sum_words_in_text(NLPT4, df_subtitles, \"vocab\")  \n",
    "    NLPT3_sum = sum_words_in_text(NLPT3, df_subtitles, \"vocab\")  \n",
    "\n",
    "    return NLPT3_sum, NLPT4_sum, NLPT5_sum"
   ]
  },
  {
   "cell_type": "code",
   "execution_count": 53,
   "metadata": {},
   "outputs": [],
   "source": [
    "Core_Japanese_Vocabulary_N5[\"count\"] = 0\n",
    "Core_Japanese_Vocabulary_N4[\"count\"] = 0\n",
    "Core_Japanese_Vocabulary_N3[\"count\"] = 0\n",
    "Core_Japanese_Vocabulary_N2[\"count\"] = 0\n",
    "Core_Japanese_Vocabulary_N1[\"count\"] = 0"
   ]
  },
  {
   "cell_type": "code",
   "execution_count": 68,
   "metadata": {},
   "outputs": [],
   "source": [
    "def JLPT_lvl_Core(df_subtitles, column_words, cnt_sum = 0):\n",
    "    NLPT3[\"count\"], NLPT4[\"count\"], NLPT5[\"count\"] = 0, 0, 0\n",
    "    NLPT3_sum, NLPT4_sum, NLPT5_sum = 0, 0, 0\n",
    "    \n",
    "    if cnt_sum == 0 :\n",
    "        CORE_N5_sum = count_words_in_text(Core_Japanese_Vocabulary_N5, df_subtitles, \"Expression\")\n",
    "        CORE_N4_sum = count_words_in_text(Core_Japanese_Vocabulary_N4, df_subtitles, \"Expression\")\n",
    "        CORE_N3_sum = count_words_in_text(Core_Japanese_Vocabulary_N3, df_subtitles, \"Expression\")\n",
    "        CORE_N2_sum = count_words_in_text(Core_Japanese_Vocabulary_N2, df_subtitles, \"Expression\")\n",
    "        CORE_N1_sum = count_words_in_text(Core_Japanese_Vocabulary_N1, df_subtitles, \"Expression\")\n",
    "        \n",
    "    if cnt_sum == 1 :\n",
    "        CORE_N5_sum = sum_words_in_text(Core_Japanese_Vocabulary_N5, df_subtitles, \"Expression\")/len(Core_Japanese_Vocabulary_N5)\n",
    "        CORE_N4_sum = sum_words_in_text(Core_Japanese_Vocabulary_N4, df_subtitles, \"Expression\")/len(Core_Japanese_Vocabulary_N4)\n",
    "        CORE_N3_sum = sum_words_in_text(Core_Japanese_Vocabulary_N3, df_subtitles, \"Expression\")/len(Core_Japanese_Vocabulary_N3)\n",
    "        CORE_N2_sum = sum_words_in_text(Core_Japanese_Vocabulary_N2, df_subtitles, \"Expression\")/len(Core_Japanese_Vocabulary_N2)\n",
    "        CORE_N1_sum = sum_words_in_text(Core_Japanese_Vocabulary_N1, df_subtitles, \"Expression\")/len(Core_Japanese_Vocabulary_N1)\n",
    "\n",
    "    return CORE_N5_sum, CORE_N4_sum, CORE_N3_sum, CORE_N2_sum, CORE_N1_sum"
   ]
  },
  {
   "cell_type": "code",
   "execution_count": 28,
   "metadata": {},
   "outputs": [
    {
     "name": "stderr",
     "output_type": "stream",
     "text": [
      "c:\\users\\happy\\appdata\\local\\programs\\python\\python38\\lib\\site-packages\\pandas\\core\\indexing.py:671: SettingWithCopyWarning: \n",
      "A value is trying to be set on a copy of a slice from a DataFrame\n",
      "\n",
      "See the caveats in the documentation: https://pandas.pydata.org/pandas-docs/stable/user_guide/indexing.html#returning-a-view-versus-a-copy\n",
      "  self._setitem_with_indexer(indexer, value)\n",
      "c:\\users\\happy\\appdata\\local\\programs\\python\\python38\\lib\\site-packages\\pandas\\core\\strings.py:1954: UserWarning: This pattern has match groups. To actually get the groups, use str.extract.\n",
      "  return func(self, *args, **kwargs)\n"
     ]
    },
    {
     "data": {
      "text/plain": [
       "(396, 221, 224)"
      ]
     },
     "execution_count": 28,
     "metadata": {},
     "output_type": "execute_result"
    }
   ],
   "source": [
    "JLPT_lvl(get_yt_sub(\"unxNWKq9aUQ\"))"
   ]
  },
  {
   "cell_type": "code",
   "execution_count": 29,
   "metadata": {},
   "outputs": [
    {
     "data": {
      "text/plain": [
       "(285, 183, 239)"
      ]
     },
     "execution_count": 29,
     "metadata": {},
     "output_type": "execute_result"
    }
   ],
   "source": [
    "JLPT_lvl(get_yt_sub(\"op1ld6Mrqzg\"))"
   ]
  },
  {
   "cell_type": "code",
   "execution_count": 61,
   "metadata": {},
   "outputs": [
    {
     "data": {
      "text/plain": [
       "(0.2308868501529052,\n",
       " 0.1433628318584071,\n",
       " 0.16573556797020483,\n",
       " 0.004369538077403246,\n",
       " 0.02539208364451083)"
      ]
     },
     "execution_count": 61,
     "metadata": {},
     "output_type": "execute_result"
    }
   ],
   "source": [
    "JLPT_lvl_Core(get_yt_sub(\"unxNWKq9aUQ\"), \"Expression\")"
   ]
  },
  {
   "cell_type": "code",
   "execution_count": 62,
   "metadata": {},
   "outputs": [
    {
     "data": {
      "text/plain": [
       "(0.27675840978593275,\n",
       " 0.17168141592920355,\n",
       " 0.06269397889509622,\n",
       " 0.004369538077403246,\n",
       " 0.02389843166542196)"
      ]
     },
     "execution_count": 62,
     "metadata": {},
     "output_type": "execute_result"
    }
   ],
   "source": [
    "JLPT_lvl_Core(get_yt_sub(\"op1ld6Mrqzg\"), \"Expression\")"
   ]
  },
  {
   "cell_type": "code",
   "execution_count": 70,
   "metadata": {},
   "outputs": [
    {
     "data": {
      "text/plain": [
       "(57, 42, 97, 7, 40)"
      ]
     },
     "execution_count": 70,
     "metadata": {},
     "output_type": "execute_result"
    }
   ],
   "source": [
    "JLPT_lvl_Core(get_yt_sub(\"unxNWKq9aUQ\"), \"Expression\")"
   ]
  },
  {
   "cell_type": "code",
   "execution_count": 71,
   "metadata": {},
   "outputs": [
    {
     "data": {
      "text/plain": [
       "(43, 16, 32, 3, 11)"
      ]
     },
     "execution_count": 71,
     "metadata": {},
     "output_type": "execute_result"
    }
   ],
   "source": [
    "JLPT_lvl_Core(get_yt_sub(\"op1ld6Mrqzg\"), \"Expression\")"
   ]
  },
  {
   "cell_type": "code",
   "execution_count": 66,
   "metadata": {},
   "outputs": [
    {
     "data": {
      "text/plain": [
       "(0.5122324159021406,\n",
       " 0.2336283185840708,\n",
       " 0.2675356921166977,\n",
       " 0.016229712858926344,\n",
       " 0.06348020911127707)"
      ]
     },
     "execution_count": 66,
     "metadata": {},
     "output_type": "execute_result"
    }
   ],
   "source": [
    "JLPT_lvl_Core(get_yt_sub(\"MfLTwoskGyc\"), \"Expression\", 1)"
   ]
  },
  {
   "cell_type": "code",
   "execution_count": 69,
   "metadata": {},
   "outputs": [
    {
     "data": {
      "text/plain": [
       "(69, 51, 111, 16, 67)"
      ]
     },
     "execution_count": 69,
     "metadata": {},
     "output_type": "execute_result"
    }
   ],
   "source": [
    "JLPT_lvl_Core(get_yt_sub(\"MfLTwoskGyc\"), \"Expression\", 0)"
   ]
  },
  {
   "cell_type": "code",
   "execution_count": 30,
   "metadata": {},
   "outputs": [],
   "source": [
    "list_removed_lemma = \"の|に|は|て|を|が|だ|た|と|で|も|a|b|c|d|e|f|g|h|i|j|k|l|m|n|o|p|q|r|s|t|u|v|w|x|y|z|!|:|・|「|」|！|？\"\n",
    "japanese_lemmas = japanese_lemmas[~japanese_lemmas.lemma.str.contains(list_removed_lemma)]"
   ]
  },
  {
   "cell_type": "code",
   "execution_count": 31,
   "metadata": {},
   "outputs": [
    {
     "data": {
      "text/html": [
       "<div>\n",
       "<style scoped>\n",
       "    .dataframe tbody tr th:only-of-type {\n",
       "        vertical-align: middle;\n",
       "    }\n",
       "\n",
       "    .dataframe tbody tr th {\n",
       "        vertical-align: top;\n",
       "    }\n",
       "\n",
       "    .dataframe thead th {\n",
       "        text-align: right;\n",
       "    }\n",
       "</style>\n",
       "<table border=\"1\" class=\"dataframe\">\n",
       "  <thead>\n",
       "    <tr style=\"text-align: right;\">\n",
       "      <th></th>\n",
       "      <th>rank</th>\n",
       "      <th>frequency</th>\n",
       "      <th>lemma</th>\n",
       "    </tr>\n",
       "  </thead>\n",
       "  <tbody>\n",
       "    <tr>\n",
       "      <th>8</th>\n",
       "      <td>9</td>\n",
       "      <td>16841.17</td>\n",
       "      <td>する</td>\n",
       "    </tr>\n",
       "    <tr>\n",
       "      <th>10</th>\n",
       "      <td>11</td>\n",
       "      <td>9604.49</td>\n",
       "      <td>ます</td>\n",
       "    </tr>\n",
       "    <tr>\n",
       "      <th>12</th>\n",
       "      <td>13</td>\n",
       "      <td>8189.00</td>\n",
       "      <td>ない</td>\n",
       "    </tr>\n",
       "    <tr>\n",
       "      <th>13</th>\n",
       "      <td>14</td>\n",
       "      <td>8140.22</td>\n",
       "      <td>いる</td>\n",
       "    </tr>\n",
       "    <tr>\n",
       "      <th>15</th>\n",
       "      <td>16</td>\n",
       "      <td>6766.19</td>\n",
       "      <td>ある</td>\n",
       "    </tr>\n",
       "    <tr>\n",
       "      <th>...</th>\n",
       "      <td>...</td>\n",
       "      <td>...</td>\n",
       "      <td>...</td>\n",
       "    </tr>\n",
       "    <tr>\n",
       "      <th>14993</th>\n",
       "      <td>14995</td>\n",
       "      <td>2.24</td>\n",
       "      <td>摘む</td>\n",
       "    </tr>\n",
       "    <tr>\n",
       "      <th>14994</th>\n",
       "      <td>14996</td>\n",
       "      <td>2.24</td>\n",
       "      <td>夕べ</td>\n",
       "    </tr>\n",
       "    <tr>\n",
       "      <th>14995</th>\n",
       "      <td>14997</td>\n",
       "      <td>2.24</td>\n",
       "      <td>売場</td>\n",
       "    </tr>\n",
       "    <tr>\n",
       "      <th>14997</th>\n",
       "      <td>14999</td>\n",
       "      <td>2.24</td>\n",
       "      <td>かしこ</td>\n",
       "    </tr>\n",
       "    <tr>\n",
       "      <th>14998</th>\n",
       "      <td>15000</td>\n",
       "      <td>2.24</td>\n",
       "      <td>バックグラウンド</td>\n",
       "    </tr>\n",
       "  </tbody>\n",
       "</table>\n",
       "<p>14013 rows × 3 columns</p>\n",
       "</div>"
      ],
      "text/plain": [
       "        rank  frequency     lemma\n",
       "8          9   16841.17        する\n",
       "10        11    9604.49        ます\n",
       "12        13    8189.00        ない\n",
       "13        14    8140.22        いる\n",
       "15        16    6766.19        ある\n",
       "...      ...        ...       ...\n",
       "14993  14995       2.24        摘む\n",
       "14994  14996       2.24        夕べ\n",
       "14995  14997       2.24        売場\n",
       "14997  14999       2.24       かしこ\n",
       "14998  15000       2.24  バックグラウンド\n",
       "\n",
       "[14013 rows x 3 columns]"
      ]
     },
     "execution_count": 31,
     "metadata": {},
     "output_type": "execute_result"
    }
   ],
   "source": [
    "japanese_lemmas"
   ]
  },
  {
   "cell_type": "code",
   "execution_count": 32,
   "metadata": {},
   "outputs": [],
   "source": [
    "japanese_lemmas = japanese_lemmas.reset_index(drop = True)\n",
    "lemmas_5 = japanese_lemmas[0:200].copy()\n",
    "lemmas_4 = japanese_lemmas[200:1000].copy().reset_index(drop = True)\n",
    "lemmas_3 = japanese_lemmas[1000:3000].copy().reset_index(drop = True)\n",
    "lemmas_2 = japanese_lemmas[3000:15000].copy().reset_index(drop = True)"
   ]
  },
  {
   "cell_type": "code",
   "execution_count": 33,
   "metadata": {},
   "outputs": [
    {
     "data": {
      "text/html": [
       "<div>\n",
       "<style scoped>\n",
       "    .dataframe tbody tr th:only-of-type {\n",
       "        vertical-align: middle;\n",
       "    }\n",
       "\n",
       "    .dataframe tbody tr th {\n",
       "        vertical-align: top;\n",
       "    }\n",
       "\n",
       "    .dataframe thead th {\n",
       "        text-align: right;\n",
       "    }\n",
       "</style>\n",
       "<table border=\"1\" class=\"dataframe\">\n",
       "  <thead>\n",
       "    <tr style=\"text-align: right;\">\n",
       "      <th></th>\n",
       "      <th>rank</th>\n",
       "      <th>frequency</th>\n",
       "      <th>lemma</th>\n",
       "    </tr>\n",
       "  </thead>\n",
       "  <tbody>\n",
       "    <tr>\n",
       "      <th>0</th>\n",
       "      <td>1155</td>\n",
       "      <td>65.64</td>\n",
       "      <td>残す</td>\n",
       "    </tr>\n",
       "    <tr>\n",
       "      <th>1</th>\n",
       "      <td>1156</td>\n",
       "      <td>65.61</td>\n",
       "      <td>教授</td>\n",
       "    </tr>\n",
       "    <tr>\n",
       "      <th>2</th>\n",
       "      <td>1157</td>\n",
       "      <td>65.52</td>\n",
       "      <td>さえ</td>\n",
       "    </tr>\n",
       "    <tr>\n",
       "      <th>3</th>\n",
       "      <td>1158</td>\n",
       "      <td>65.44</td>\n",
       "      <td>戦略</td>\n",
       "    </tr>\n",
       "    <tr>\n",
       "      <th>4</th>\n",
       "      <td>1159</td>\n",
       "      <td>65.42</td>\n",
       "      <td>営業</td>\n",
       "    </tr>\n",
       "    <tr>\n",
       "      <th>...</th>\n",
       "      <td>...</td>\n",
       "      <td>...</td>\n",
       "      <td>...</td>\n",
       "    </tr>\n",
       "    <tr>\n",
       "      <th>1995</th>\n",
       "      <td>3322</td>\n",
       "      <td>19.62</td>\n",
       "      <td>田舎</td>\n",
       "    </tr>\n",
       "    <tr>\n",
       "      <th>1996</th>\n",
       "      <td>3323</td>\n",
       "      <td>19.62</td>\n",
       "      <td>任せる</td>\n",
       "    </tr>\n",
       "    <tr>\n",
       "      <th>1997</th>\n",
       "      <td>3324</td>\n",
       "      <td>19.61</td>\n",
       "      <td>鍵</td>\n",
       "    </tr>\n",
       "    <tr>\n",
       "      <th>1998</th>\n",
       "      <td>3325</td>\n",
       "      <td>19.60</td>\n",
       "      <td>勿論</td>\n",
       "    </tr>\n",
       "    <tr>\n",
       "      <th>1999</th>\n",
       "      <td>3326</td>\n",
       "      <td>19.60</td>\n",
       "      <td>指す</td>\n",
       "    </tr>\n",
       "  </tbody>\n",
       "</table>\n",
       "<p>2000 rows × 3 columns</p>\n",
       "</div>"
      ],
      "text/plain": [
       "      rank  frequency lemma\n",
       "0     1155      65.64    残す\n",
       "1     1156      65.61    教授\n",
       "2     1157      65.52    さえ\n",
       "3     1158      65.44    戦略\n",
       "4     1159      65.42    営業\n",
       "...    ...        ...   ...\n",
       "1995  3322      19.62    田舎\n",
       "1996  3323      19.62   任せる\n",
       "1997  3324      19.61     鍵\n",
       "1998  3325      19.60    勿論\n",
       "1999  3326      19.60    指す\n",
       "\n",
       "[2000 rows x 3 columns]"
      ]
     },
     "execution_count": 33,
     "metadata": {},
     "output_type": "execute_result"
    }
   ],
   "source": [
    "lemmas_3"
   ]
  },
  {
   "cell_type": "code",
   "execution_count": 34,
   "metadata": {},
   "outputs": [],
   "source": [
    "lemmas_5[\"count\"] = 0\n",
    "lemmas_4[\"count\"] = 0\n",
    "lemmas_3[\"count\"] = 0\n",
    "lemmas_2[\"count\"] = 0"
   ]
  },
  {
   "cell_type": "code",
   "execution_count": 35,
   "metadata": {},
   "outputs": [],
   "source": [
    "def JLPT_lvl_lemmas(df_subtitles, column_words, cnt_sum = 0):\n",
    "    lemmas_5[\"count\"], lemmas_4[\"count\"], lemmas_3[\"count\"], lemmas_2[\"count\"] = 0, 0, 0, 0\n",
    "    lemmas_5_sum, lemmas_4_sum, lemmas_3_sum, lemmas_2_sum = 0, 0, 0, 0\n",
    "    \n",
    "    if cnt_sum == 0 :\n",
    "        lemmas_5_sum = count_words_in_text(lemmas_5, df_subtitles, column_words)\n",
    "        lemmas_4_sum = count_words_in_text(lemmas_4, df_subtitles, column_words)\n",
    "        lemmas_3_sum = count_words_in_text(lemmas_3, df_subtitles, column_words)\n",
    "        lemmas_2_sum = count_words_in_text(lemmas_2, df_subtitles, column_words)\n",
    "        \n",
    "    if cnt_sum == 1 :\n",
    "        lemmas_5_sum = sum_words_in_text(lemmas_5, df_subtitles, column_words)\n",
    "        lemmas_4_sum = sum_words_in_text(lemmas_4, df_subtitles, column_words)\n",
    "        lemmas_3_sum = sum_words_in_text(lemmas_3, df_subtitles, column_words)\n",
    "        lemmas_2_sum = sum_words_in_text(lemmas_2, df_subtitles, column_words)\n",
    "\n",
    "    return lemmas_5_sum, lemmas_4_sum, lemmas_3_sum, lemmas_2_sum"
   ]
  },
  {
   "cell_type": "code",
   "execution_count": 36,
   "metadata": {},
   "outputs": [
    {
     "name": "stderr",
     "output_type": "stream",
     "text": [
      "c:\\users\\happy\\appdata\\local\\programs\\python\\python38\\lib\\site-packages\\pandas\\core\\indexing.py:671: SettingWithCopyWarning: \n",
      "A value is trying to be set on a copy of a slice from a DataFrame\n",
      "\n",
      "See the caveats in the documentation: https://pandas.pydata.org/pandas-docs/stable/user_guide/indexing.html#returning-a-view-versus-a-copy\n",
      "  self._setitem_with_indexer(indexer, value)\n"
     ]
    },
    {
     "data": {
      "text/plain": [
       "(80, 132, 120, 181)"
      ]
     },
     "execution_count": 36,
     "metadata": {},
     "output_type": "execute_result"
    }
   ],
   "source": [
    "JLPT_lvl_lemmas(get_yt_sub(\"unxNWKq9aUQ\"),\"lemma\", 0)"
   ]
  },
  {
   "cell_type": "code",
   "execution_count": 37,
   "metadata": {},
   "outputs": [
    {
     "data": {
      "text/plain": [
       "(617, 574, 413, 355)"
      ]
     },
     "execution_count": 37,
     "metadata": {},
     "output_type": "execute_result"
    }
   ],
   "source": [
    "JLPT_lvl_lemmas(get_yt_sub(\"unxNWKq9aUQ\"),\"lemma\", 1)"
   ]
  },
  {
   "cell_type": "code",
   "execution_count": 38,
   "metadata": {},
   "outputs": [
    {
     "data": {
      "text/plain": [
       "(45, 49, 64, 121)"
      ]
     },
     "execution_count": 38,
     "metadata": {},
     "output_type": "execute_result"
    }
   ],
   "source": [
    "JLPT_lvl_lemmas(get_yt_sub(\"op1ld6Mrqzg\"),\"lemma\", 0)"
   ]
  },
  {
   "cell_type": "code",
   "execution_count": 39,
   "metadata": {},
   "outputs": [
    {
     "data": {
      "text/plain": [
       "(630, 636, 593, 469)"
      ]
     },
     "execution_count": 39,
     "metadata": {},
     "output_type": "execute_result"
    }
   ],
   "source": [
    "JLPT_lvl_lemmas(get_yt_sub(\"op1ld6Mrqzg\"),\"lemma\", 1)"
   ]
  },
  {
   "cell_type": "code",
   "execution_count": null,
   "metadata": {},
   "outputs": [],
   "source": []
  }
 ],
 "metadata": {
  "kernelspec": {
   "display_name": "Python 3",
   "language": "python",
   "name": "python3"
  },
  "language_info": {
   "codemirror_mode": {
    "name": "ipython",
    "version": 3
   },
   "file_extension": ".py",
   "mimetype": "text/x-python",
   "name": "python",
   "nbconvert_exporter": "python",
   "pygments_lexer": "ipython3",
   "version": "3.8.1"
  }
 },
 "nbformat": 4,
 "nbformat_minor": 4
}
